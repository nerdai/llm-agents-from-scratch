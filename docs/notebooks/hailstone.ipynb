{
 "cells": [
  {
   "cell_type": "markdown",
   "id": "915de20c-9761-4652-8cb2-a81dae481bae",
   "metadata": {},
   "source": [
    "# Our First LLMAgent — Hailstone"
   ]
  },
  {
   "cell_type": "code",
   "execution_count": 1,
   "id": "906130e6-89a0-4201-979d-0c8cd1e35abd",
   "metadata": {},
   "outputs": [],
   "source": [
    "LOGGING_ENABLED = True"
   ]
  },
  {
   "cell_type": "code",
   "execution_count": 2,
   "id": "4e298478-b49e-45cb-b508-d0feca82b55d",
   "metadata": {},
   "outputs": [],
   "source": [
    "import logging\n",
    "\n",
    "from llm_agents_from_scratch.logger import enable_console_logging\n",
    "\n",
    "if LOGGING_ENABLED:\n",
    "    enable_console_logging(logging.INFO)"
   ]
  },
  {
   "cell_type": "markdown",
   "id": "cfaeb6a0-7a78-48f7-983d-080eb8410083",
   "metadata": {},
   "source": [
    "## Define the Hailstone Tool"
   ]
  },
  {
   "cell_type": "code",
   "execution_count": 3,
   "id": "e0e34708-d805-4986-8615-6094a6f770b9",
   "metadata": {},
   "outputs": [],
   "source": [
    "from pydantic import BaseModel\n",
    "\n",
    "from llm_agents_from_scratch.tools import PydanticFunctionTool\n",
    "\n",
    "\n",
    "class AlgoParams(BaseModel):\n",
    "    \"\"\"Params for next_number.\"\"\"\n",
    "\n",
    "    x: int\n",
    "\n",
    "\n",
    "def next_number(params: AlgoParams) -> int:\n",
    "    \"\"\"Generate the next number of the sequence.\"\"\"\n",
    "    if params.x % 2 == 0:\n",
    "        return params.x // 2\n",
    "    return 3 * params.x + 1\n",
    "\n",
    "\n",
    "# convert our Python function to a BaseTool\n",
    "tool = PydanticFunctionTool(next_number)"
   ]
  },
  {
   "cell_type": "markdown",
   "id": "153d1f85-70d2-4ea5-a076-e83e01058c7d",
   "metadata": {},
   "source": [
    "## Define our backbone LLM"
   ]
  },
  {
   "cell_type": "code",
   "execution_count": 4,
   "id": "b5761c29-41d5-41a8-822f-e6acd3c321f5",
   "metadata": {},
   "outputs": [],
   "source": [
    "from llm_agents_from_scratch.llms import OllamaLLM"
   ]
  },
  {
   "cell_type": "code",
   "execution_count": 5,
   "id": "5b5110cf-8f0a-44fa-a3a1-6cf895ce1c46",
   "metadata": {},
   "outputs": [],
   "source": [
    "llm = OllamaLLM(model=\"qwen2.5:3b\")"
   ]
  },
  {
   "cell_type": "markdown",
   "id": "545c892a-1dad-44f5-904f-7b0ee367f8a5",
   "metadata": {},
   "source": [
    "## Define the LLMAgent"
   ]
  },
  {
   "cell_type": "code",
   "execution_count": 6,
   "id": "d6929e4f-fd56-4368-99db-d998b6bc4b20",
   "metadata": {},
   "outputs": [],
   "source": [
    "from llm_agents_from_scratch import LLMAgent"
   ]
  },
  {
   "cell_type": "code",
   "execution_count": 7,
   "id": "6ddaa118-5ea0-4455-949d-5505e23a50bc",
   "metadata": {},
   "outputs": [],
   "source": [
    "llm_agent = LLMAgent(\n",
    "    llm=llm,\n",
    "    tools=[tool],\n",
    ")"
   ]
  },
  {
   "cell_type": "markdown",
   "id": "e59458d1-7e51-4533-8e50-90f623c1e4e0",
   "metadata": {},
   "source": [
    "## Define the Hailstone Task"
   ]
  },
  {
   "cell_type": "code",
   "execution_count": 8,
   "id": "036ab66a-bf43-4186-9e2b-425c6adc0de2",
   "metadata": {},
   "outputs": [],
   "source": [
    "from llm_agents_from_scratch.data_structures import Task"
   ]
  },
  {
   "cell_type": "code",
   "execution_count": 9,
   "id": "5cab3cb2-0fed-4562-a4a7-20ff46ec812b",
   "metadata": {},
   "outputs": [],
   "source": [
    "instruction_template = \"\"\"You are given a tool, `next_number`, that generates the next number in the sequence given the current number.\n",
    "\n",
    "Start with the number x={x}.\n",
    "\n",
    "<rules>\n",
    "CALL `next_number` on the current number x\n",
    "STOP AND WAIT for the result.\n",
    "REPEAT this step-by-step process until the number 1 is reached.\n",
    "FINAL RESULT: When you receive the number 1, provide the complete sequence\n",
    "you observed from start to finish (including the starting number x and\n",
    "ending number 1).\n",
    "</rules>\n",
    "\n",
    "<warnings>\n",
    "NEVER fabricate or simulate tool call results\n",
    "NEVER make multiple tool calls in one response\n",
    "STOP and WAIT - ALWAYS wait for the actual tool response before deciding next steps\n",
    "</warnings>\n",
    "\"\"\""
   ]
  },
  {
   "cell_type": "code",
   "execution_count": 10,
   "id": "150dc832-9716-4bcd-857b-137a87810c25",
   "metadata": {},
   "outputs": [],
   "source": [
    "task = Task(\n",
    "    instruction=instruction_template.format(x=4),\n",
    ")"
   ]
  },
  {
   "cell_type": "code",
   "execution_count": 11,
   "id": "b30f5431-236e-403a-a1b5-6a6d13a537f1",
   "metadata": {},
   "outputs": [
    {
     "name": "stdout",
     "output_type": "stream",
     "text": [
      "INFO (llm_agents_fs.LLMAgent) :      🚀 Starting task: You are given a tool, `next_number`, that generates the next number in the sequence given the current number.\n",
      "\n",
      "Start with the number ...[TRUNCATED]\n",
      "INFO (llm_agents_fs.TaskHandler) :      ⚙️ Processing Step: You are given a tool, `next_number`, that generates the next number in the sequence given the current number.\n",
      "\n",
      "Start with the numb...[TRUNCATED]\n",
      "INFO (llm_agents_fs.TaskHandler) :      🛠️ Executing Tool Call: next_number\n",
      "INFO (llm_agents_fs.TaskHandler) :      ✅ Successful Tool Call: 2\n",
      "INFO (llm_agents_fs.TaskHandler) :      ✅ Step Result: <tool_call>\n",
      "{\"name\": \"next_number\", \"arguments\": {\"x\":2}}\n",
      "</tool_call>\n",
      "INFO (llm_agents_fs.TaskHandler) :      🧠 New Step: The tool call has returned with the result '2'. The next step is to make another tool call with x=2.\n",
      "INFO (llm_agents_fs.TaskHandler) :      ⚙️ Processing Step: The tool call has returned with the result '2'. The next step is to make another tool call with x=2.\n",
      "INFO (llm_agents_fs.TaskHandler) :      🛠️ Executing Tool Call: next_number\n",
      "INFO (llm_agents_fs.TaskHandler) :      ✅ Successful Tool Call: 1\n",
      "INFO (llm_agents_fs.TaskHandler) :      ✅ Step Result: The tool returned the result '1'. According to the sequence you observed, starting from x=4 and ending with 1, here is the complete seq...[TRUNCATED]\n",
      "INFO (llm_agents_fs.TaskHandler) :      No new step required.\n",
      "INFO (llm_agents_fs.LLMAgent) :      🏁 Task completed: 4 → 2 → 1\n"
     ]
    }
   ],
   "source": [
    "handler = llm_agent.run(task)"
   ]
  },
  {
   "cell_type": "code",
   "execution_count": 15,
   "id": "41b93286-bc46-4f88-86cc-5ff26dc0ba9d",
   "metadata": {},
   "outputs": [
    {
     "data": {
      "text/plain": [
       "True"
      ]
     },
     "execution_count": 15,
     "metadata": {},
     "output_type": "execute_result"
    }
   ],
   "source": [
    "handler.done()"
   ]
  },
  {
   "cell_type": "markdown",
   "id": "849a033e-9b3d-403b-a2f5-772344c6911c",
   "metadata": {},
   "source": [
    "# See the TaskResult"
   ]
  },
  {
   "cell_type": "code",
   "execution_count": 13,
   "id": "a1da2dca-1bc4-4354-9dd8-b1273fbf407a",
   "metadata": {},
   "outputs": [],
   "source": [
    "result = handler.result()"
   ]
  },
  {
   "cell_type": "code",
   "execution_count": 14,
   "id": "3d245e14-08c8-4404-b89e-ae8d68e90a19",
   "metadata": {},
   "outputs": [
    {
     "name": "stdout",
     "output_type": "stream",
     "text": [
      "4 → 2 → 1\n"
     ]
    }
   ],
   "source": [
    "print(result)"
   ]
  },
  {
   "cell_type": "markdown",
   "id": "693921d3-a013-4fe0-a0cf-6dac28401fdf",
   "metadata": {},
   "source": [
    "### See the Rollout"
   ]
  },
  {
   "cell_type": "code",
   "execution_count": 16,
   "id": "62341232-7788-4823-a633-24373441852f",
   "metadata": {},
   "outputs": [
    {
     "name": "stdout",
     "output_type": "stream",
     "text": [
      "=== Task Step Start ===\n",
      "\n",
      "💬 assistant: The current instruction is 'You are given a tool, `next_number`, that generates the next number in the sequence given the current number.\n",
      "\n",
      "Start with the number x=4.\n",
      "\n",
      "<rules>\n",
      "CALL `next_number` on the current number x\n",
      "STOP AND WAIT for the result.\n",
      "REPEAT this step-by-step process until the number 1 is reached.\n",
      "FINAL RESULT: When you receive the number 1, provide the complete sequence\n",
      "you observed from start to finish (including the starting number x and\n",
      "ending number 1).\n",
      "</rules>\n",
      "\n",
      "<warnings>\n",
      "NEVER fabricate or simulate tool call results\n",
      "NEVER make multiple tool calls in one response\n",
      "STOP and WAIT - ALWAYS wait for the actual tool response before deciding next steps\n",
      "</warnings>\n",
      "'\n",
      "\n",
      "💬 assistant: I need to make the following tool call(s):\n",
      "\n",
      "{\n",
      "    \"tool_name\": \"next_number\",\n",
      "    \"arguments\": {\n",
      "        \"x\": 4\n",
      "    }\n",
      "}.\n",
      "\n",
      "💬 tool: {\n",
      "    \"tool_call\": {\n",
      "        \"tool_name\": \"next_number\",\n",
      "        \"arguments\": {\n",
      "            \"x\": 4\n",
      "        }\n",
      "    },\n",
      "    \"content\": \"2\",\n",
      "    \"error\": false\n",
      "}\n",
      "\n",
      "💬 assistant: <tool_call>\n",
      "{\"name\": \"next_number\", \"arguments\": {\"x\":2}}\n",
      "</tool_call>\n",
      "\n",
      "=== Task Step End ===\n",
      "\n",
      "=== Task Step Start ===\n",
      "\n",
      "💬 assistant: The current instruction is 'The tool call has returned with the result '2'. The next step is to make another tool call with x=2.'\n",
      "\n",
      "💬 assistant: I need to make the following tool call(s):\n",
      "\n",
      "{\n",
      "    \"tool_name\": \"next_number\",\n",
      "    \"arguments\": {\n",
      "        \"x\": 2\n",
      "    }\n",
      "}.\n",
      "\n",
      "💬 tool: {\n",
      "    \"tool_call\": {\n",
      "        \"tool_name\": \"next_number\",\n",
      "        \"arguments\": {\n",
      "            \"x\": 2\n",
      "        }\n",
      "    },\n",
      "    \"content\": \"1\",\n",
      "    \"error\": false\n",
      "}\n",
      "\n",
      "💬 assistant: The tool returned the result '1'. According to the sequence you observed, starting from x=4 and ending with 1, here is the complete sequence:\n",
      "\n",
      "4 → 2 → 1\n",
      "\n",
      "You have now reached the end of the sequence as requested.\n",
      "\n",
      "=== Task Step End ===\n"
     ]
    }
   ],
   "source": [
    "print(handler.rollout)"
   ]
  },
  {
   "cell_type": "code",
   "execution_count": 17,
   "id": "5cbc5b9e-333d-4c9f-ab95-8a26fe5dc283",
   "metadata": {},
   "outputs": [
    {
     "data": {
      "text/plain": [
       "2"
      ]
     },
     "execution_count": 17,
     "metadata": {},
     "output_type": "execute_result"
    }
   ],
   "source": [
    "# number of task steps executed\n",
    "handler.step_counter"
   ]
  },
  {
   "cell_type": "markdown",
   "id": "8cc92798-8ca3-46ba-9277-78fcc64d1bba",
   "metadata": {},
   "source": [
    "## Evaluation"
   ]
  },
  {
   "cell_type": "code",
   "execution_count": 18,
   "id": "0ca3a07f-ea8c-457c-95c0-95194d4510d9",
   "metadata": {},
   "outputs": [],
   "source": [
    "from dataclasses import dataclass\n",
    "\n",
    "\n",
    "@dataclass\n",
    "class Example:\n",
    "    \"\"\"Benchmark example.\"\"\"\n",
    "\n",
    "    number: int\n",
    "    sequence: list[int]\n",
    "\n",
    "    @property\n",
    "    def min_steps(self) -> int:\n",
    "        \"\"\"Returns the minimum number of TaskSteps to perform the Task.\"\"\"\n",
    "        return len(self.sequence) - 1"
   ]
  },
  {
   "cell_type": "code",
   "execution_count": 19,
   "id": "152c75bb-229c-4f3d-abbb-4351df150f6f",
   "metadata": {},
   "outputs": [],
   "source": [
    "benchmark: list[Example] = [\n",
    "    Example(\n",
    "        number=11,\n",
    "        sequence=[11, 34, 17, 52, 26, 13, 40, 20, 10, 5, 16, 8, 4, 2, 1],\n",
    "    ),\n",
    "    Example(\n",
    "        number=13,\n",
    "        sequence=[13, 40, 20, 10, 5, 16, 8, 4, 2, 1],\n",
    "    ),\n",
    "    Example(\n",
    "        number=4,\n",
    "        sequence=[4, 2, 1],\n",
    "    ),\n",
    "    Example(\n",
    "        number=3,\n",
    "        sequence=[3, 10, 5, 16, 8, 4, 2, 1],\n",
    "    ),\n",
    "    Example(\n",
    "        number=2,\n",
    "        sequence=[2, 1],\n",
    "    ),\n",
    "]"
   ]
  },
  {
   "cell_type": "markdown",
   "id": "83498468-5e76-4294-818b-3c62cff385f1",
   "metadata": {},
   "source": [
    "### Run tasks"
   ]
  },
  {
   "cell_type": "code",
   "execution_count": 20,
   "id": "aa48f3ad-7d9c-4e42-8cf2-babdaf37725e",
   "metadata": {
    "scrolled": true
   },
   "outputs": [
    {
     "name": "stdout",
     "output_type": "stream",
     "text": [
      "INFO (llm_agents_fs.LLMAgent) :      🚀 Starting task: You are given a tool, `next_number`, that generates the next number in the sequence given the current number.\n",
      "\n",
      "Start with the number ...[TRUNCATED]\n",
      "INFO (llm_agents_fs.TaskHandler) :      ⚙️ Processing Step: You are given a tool, `next_number`, that generates the next number in the sequence given the current number.\n",
      "\n",
      "Start with the numb...[TRUNCATED]\n",
      "INFO (llm_agents_fs.LLMAgent) :      🚀 Starting task: You are given a tool, `next_number`, that generates the next number in the sequence given the current number.\n",
      "\n",
      "Start with the number ...[TRUNCATED]\n",
      "INFO (llm_agents_fs.TaskHandler) :      ⚙️ Processing Step: You are given a tool, `next_number`, that generates the next number in the sequence given the current number.\n",
      "\n",
      "Start with the numb...[TRUNCATED]\n",
      "INFO (llm_agents_fs.LLMAgent) :      🚀 Starting task: You are given a tool, `next_number`, that generates the next number in the sequence given the current number.\n",
      "\n",
      "Start with the number ...[TRUNCATED]\n",
      "INFO (llm_agents_fs.TaskHandler) :      ⚙️ Processing Step: You are given a tool, `next_number`, that generates the next number in the sequence given the current number.\n",
      "\n",
      "Start with the numb...[TRUNCATED]\n",
      "INFO (llm_agents_fs.LLMAgent) :      🚀 Starting task: You are given a tool, `next_number`, that generates the next number in the sequence given the current number.\n",
      "\n",
      "Start with the number ...[TRUNCATED]\n",
      "INFO (llm_agents_fs.TaskHandler) :      ⚙️ Processing Step: You are given a tool, `next_number`, that generates the next number in the sequence given the current number.\n",
      "\n",
      "Start with the numb...[TRUNCATED]\n",
      "INFO (llm_agents_fs.LLMAgent) :      🚀 Starting task: You are given a tool, `next_number`, that generates the next number in the sequence given the current number.\n",
      "\n",
      "Start with the number ...[TRUNCATED]\n",
      "INFO (llm_agents_fs.TaskHandler) :      ⚙️ Processing Step: You are given a tool, `next_number`, that generates the next number in the sequence given the current number.\n",
      "\n",
      "Start with the numb...[TRUNCATED]\n",
      "INFO (llm_agents_fs.TaskHandler) :      🛠️ Executing Tool Call: next_number\n",
      "INFO (llm_agents_fs.TaskHandler) :      ✅ Successful Tool Call: 34\n",
      "INFO (llm_agents_fs.TaskHandler) :      🛠️ Executing Tool Call: next_number\n",
      "INFO (llm_agents_fs.TaskHandler) :      ✅ Successful Tool Call: 40\n",
      "INFO (llm_agents_fs.TaskHandler) :      🛠️ Executing Tool Call: next_number\n",
      "INFO (llm_agents_fs.TaskHandler) :      ✅ Successful Tool Call: 1\n",
      "INFO (llm_agents_fs.TaskHandler) :      🛠️ Executing Tool Call: next_number\n",
      "INFO (llm_agents_fs.TaskHandler) :      ✅ Successful Tool Call: 10\n",
      "INFO (llm_agents_fs.TaskHandler) :      ✅ Step Result: <tool_call>\n",
      "{\"name\": \"next_number\", \"arguments\": {\"x\":34}}\n",
      "</tool_call>\n",
      "INFO (llm_agents_fs.TaskHandler) :      🛠️ Executing Tool Call: next_number\n",
      "INFO (llm_agents_fs.TaskHandler) :      ✅ Successful Tool Call: 2\n",
      "INFO (llm_agents_fs.TaskHandler) :      🛠️ Executing Tool Call: next_number\n",
      "INFO (llm_agents_fs.TaskHandler) :      ✅ Successful Tool Call: 376\n",
      "INFO (llm_agents_fs.TaskHandler) :      🛠️ Executing Tool Call: next_number\n",
      "INFO (llm_agents_fs.TaskHandler) :      ✅ Successful Tool Call: 188\n",
      "INFO (llm_agents_fs.TaskHandler) :      🛠️ Executing Tool Call: next_number\n",
      "INFO (llm_agents_fs.TaskHandler) :      ✅ Successful Tool Call: 492\n",
      "INFO (llm_agents_fs.TaskHandler) :      🛠️ Executing Tool Call: next_number\n",
      "INFO (llm_agents_fs.TaskHandler) :      ✅ Successful Tool Call: 1458\n",
      "INFO (llm_agents_fs.TaskHandler) :      🛠️ Executing Tool Call: next_number\n",
      "INFO (llm_agents_fs.TaskHandler) :      ✅ Successful Tool Call: 22510\n",
      "INFO (llm_agents_fs.TaskHandler) :      ✅ Step Result: <tool_call>\n",
      "{\"name\": \"next_number\", \"arguments\": {\"x\":1}}\n",
      "</tool_call>\n",
      "INFO (llm_agents_fs.TaskHandler) :      ✅ Step Result: <tool_call>\n",
      "{\"name\": \"next_number\", \"arguments\": {\"x\":10}}\n",
      "</tool_call>\n",
      "INFO (llm_agents_fs.TaskHandler) :      ✅ Step Result: I have called the `next_number` tool with your provided current number, which is now set to 40. I will proceed to call it again with th...[TRUNCATED]\n",
      "INFO (llm_agents_fs.TaskHandler) :      🧠 New Step: The tool call returned the result. The next number in the sequence is 34.\n",
      "INFO (llm_agents_fs.TaskHandler) :      ⚙️ Processing Step: The tool call returned the result. The next number in the sequence is 34.\n",
      "INFO (llm_agents_fs.TaskHandler) :      🧠 New Step: The current number is now 1. According to the instruction, I need to stop when I receive a result of 1 and provide the complete sequence i...[TRUNCATED]\n",
      "INFO (llm_agents_fs.TaskHandler) :      ⚙️ Processing Step: The current number is now 1. According to the instruction, I need to stop when I receive a result of 1 and provide the complete se...[TRUNCATED]\n",
      "INFO (llm_agents_fs.TaskHandler) :      🧠 New Step: The next number in the sequence is generated by the tool as `next_number(x=10)`, which returned 10. Since we still need to call the `next_...[TRUNCATED]\n",
      "INFO (llm_agents_fs.TaskHandler) :      ⚙️ Processing Step: The next number in the sequence is generated by the tool as `next_number(x=10)`, which returned 10. Since we still need to call th...[TRUNCATED]\n",
      "INFO (llm_agents_fs.TaskHandler) :      🧠 New Step: NEXT_STEP_CALL_NEXT_NUMBER_WITH_X_EQUIV_40\n",
      "INFO (llm_agents_fs.TaskHandler) :      ⚙️ Processing Step: NEXT_STEP_CALL_NEXT_NUMBER_WITH_X_EQUIV_40\n",
      "INFO (llm_agents_fs.TaskHandler) :      🛠️ Executing Tool Call: next_number\n",
      "INFO (llm_agents_fs.TaskHandler) :      ✅ Successful Tool Call: 17\n",
      "INFO (llm_agents_fs.TaskHandler) :      🛠️ Executing Tool Call: next_number\n",
      "INFO (llm_agents_fs.TaskHandler) :      ✅ Successful Tool Call: 4\n",
      "INFO (llm_agents_fs.TaskHandler) :      🛠️ Executing Tool Call: next_number\n",
      "INFO (llm_agents_fs.TaskHandler) :      ✅ Successful Tool Call: 5\n",
      "INFO (llm_agents_fs.TaskHandler) :      🛠️ Executing Tool Call: next_number\n",
      "INFO (llm_agents_fs.TaskHandler) :      ✅ Successful Tool Call: 20\n",
      "INFO (llm_agents_fs.TaskHandler) :      ✅ Step Result: It seems there was an error with the tool responses as they do not follow a sequence that matches typical number generation functions. ...[TRUNCATED]\n",
      "INFO (llm_agents_fs.TaskHandler) :      ✅ Step Result: The next number in the sequence after 34 is 17. I will now make the next tool call with x set to 17.\n",
      "\n",
      "I need to make the following tool...[TRUNCATED]\n",
      "INFO (llm_agents_fs.TaskHandler) :      ✅ Step Result: <tool_call>\n",
      "{\"name\": \"next_number\", \"arguments\": {\"x\":4}}\n",
      "</tool_call>\n",
      "INFO (llm_agents_fs.TaskHandler) :      ✅ Step Result: The tool returned the next number in the sequence as `5` when called with `x=10`. \n",
      "\n",
      "I will now make the next call to `next_number` usin...[TRUNCATED]\n",
      "INFO (llm_agents_fs.TaskHandler) :      No new step required.\n",
      "INFO (llm_agents_fs.LLMAgent) :      🏁 Task completed: 4 -> 2 -> 1\n",
      "INFO (llm_agents_fs.TaskHandler) :      ✅ Step Result: I have called the `next_number` tool with x=40, and it returned the next number in the sequence as 20. \n",
      "\n",
      "Let's call the `next_number` t...[TRUNCATED]\n",
      "INFO (llm_agents_fs.TaskHandler) :      No new step required.\n",
      "INFO (llm_agents_fs.LLMAgent) :      🏁 Task completed: [2, 1, 4]\n",
      "INFO (llm_agents_fs.TaskHandler) :      🧠 New Step: { \"tool_name\": \"next_number\", \"arguments\": { \"x\": 17 }}\n",
      "INFO (llm_agents_fs.TaskHandler) :      ⚙️ Processing Step: { \"tool_name\": \"next_number\", \"arguments\": { \"x\": 17 }}\n",
      "INFO (llm_agents_fs.TaskHandler) :      🧠 New Step: CALL `next_number` on the current number x\n",
      "INFO (llm_agents_fs.TaskHandler) :      ⚙️ Processing Step: CALL `next_number` on the current number x\n",
      "INFO (llm_agents_fs.TaskHandler) :      🧠 New Step: { \"name\": \"next_number\", \"arguments\": {\"x\": 5}}\n",
      "INFO (llm_agents_fs.TaskHandler) :      ⚙️ Processing Step: { \"name\": \"next_number\", \"arguments\": {\"x\": 5}}\n",
      "INFO (llm_agents_fs.TaskHandler) :      🛠️ Executing Tool Call: next_number\n",
      "INFO (llm_agents_fs.TaskHandler) :      ✅ Successful Tool Call: 52\n",
      "INFO (llm_agents_fs.TaskHandler) :      🛠️ Executing Tool Call: next_number\n",
      "INFO (llm_agents_fs.TaskHandler) :      ✅ Successful Tool Call: 10\n",
      "INFO (llm_agents_fs.TaskHandler) :      🛠️ Executing Tool Call: next_number\n",
      "INFO (llm_agents_fs.TaskHandler) :      ✅ Successful Tool Call: 16\n",
      "INFO (llm_agents_fs.TaskHandler) :      ✅ Step Result: The next number in the sequence after 17 is 52. Now, I will use this new value to make the next tool call with x set to 52.\n",
      "\n",
      "I need to ...[TRUNCATED]\n",
      "INFO (llm_agents_fs.TaskHandler) :      ✅ Step Result: I have called the `next_number` tool with x=20, and it returned the next number in the sequence as **10**. \n",
      "\n",
      "Let's call the `next_numbe...[TRUNCATED]\n",
      "INFO (llm_agents_fs.TaskHandler) :      ✅ Step Result: The tool returned the next number in the sequence as `16` when called with `x=5`.\n",
      "\n",
      "I will now make the next call to `next_number` using...[TRUNCATED]\n",
      "INFO (llm_agents_fs.TaskHandler) :      🧠 New Step: { \"tool_name\": \"next_number\", \"arguments\": { \"x\": 52 }}\n",
      "INFO (llm_agents_fs.TaskHandler) :      ⚙️ Processing Step: { \"tool_name\": \"next_number\", \"arguments\": { \"x\": 52 }}\n",
      "INFO (llm_agents_fs.TaskHandler) :      🧠 New Step: { \"name\": \"next_number\", \"arguments\": {\"x\": 16} }\n",
      "INFO (llm_agents_fs.TaskHandler) :      ⚙️ Processing Step: { \"name\": \"next_number\", \"arguments\": {\"x\": 16} }\n",
      "INFO (llm_agents_fs.TaskHandler) :      No new step required.\n",
      "INFO (llm_agents_fs.LLMAgent) :      🏁 Task completed: The sequence from start to finish is: 13, 40, 20, 10, 5, 8, 4, 2, 1.\n",
      "INFO (llm_agents_fs.TaskHandler) :      🛠️ Executing Tool Call: next_number\n",
      "INFO (llm_agents_fs.TaskHandler) :      ✅ Successful Tool Call: 8\n",
      "INFO (llm_agents_fs.TaskHandler) :      🛠️ Executing Tool Call: next_number\n",
      "INFO (llm_agents_fs.TaskHandler) :      ✅ Successful Tool Call: 26\n",
      "INFO (llm_agents_fs.TaskHandler) :      🛠️ Executing Tool Call: next_number\n",
      "INFO (llm_agents_fs.TaskHandler) :      ✅ Successful Tool Call: 26\n",
      "INFO (llm_agents_fs.TaskHandler) :      ✅ Step Result: <tool_call>\n",
      "{\"name\": \"next_number\", \"arguments\": {\"x\":26}}\n",
      "\n",
      "INFO (llm_agents_fs.TaskHandler) :      ✅ Step Result: The tool returned the next number in the sequence as `8` when called with `x=16`.\n",
      "\n",
      "I will now make the next call to `next_number` using...[TRUNCATED]\n",
      "INFO (llm_agents_fs.TaskHandler) :      No new step required.\n",
      "INFO (llm_agents_fs.LLMAgent) :      🏁 Task completed: [11, 34, 17, 52, 26, 1]\n",
      "INFO (llm_agents_fs.TaskHandler) :      🧠 New Step: { \"tool_name\": \"next_number\", \"arguments\": { \"x\": 8 } }\n",
      "INFO (llm_agents_fs.TaskHandler) :      ⚙️ Processing Step: { \"tool_name\": \"next_number\", \"arguments\": { \"x\": 8 } }\n",
      "INFO (llm_agents_fs.TaskHandler) :      🛠️ Executing Tool Call: next_number\n",
      "INFO (llm_agents_fs.TaskHandler) :      ✅ Successful Tool Call: 4\n",
      "INFO (llm_agents_fs.TaskHandler) :      ✅ Step Result: The tool returned the next number in the sequence as `4` when called with `x=8.`\n",
      "\n",
      "I will now make the next call to `next_number` using ...[TRUNCATED]\n",
      "INFO (llm_agents_fs.TaskHandler) :      🧠 New Step: { \"tool_name\": \"next_number\", \"arguments\": { \"x\": 4 } }\n",
      "INFO (llm_agents_fs.TaskHandler) :      ⚙️ Processing Step: { \"tool_name\": \"next_number\", \"arguments\": { \"x\": 4 } }\n",
      "INFO (llm_agents_fs.TaskHandler) :      🛠️ Executing Tool Call: next_number\n",
      "INFO (llm_agents_fs.TaskHandler) :      ✅ Successful Tool Call: 2\n",
      "INFO (llm_agents_fs.TaskHandler) :      ✅ Step Result: <tool_call>\n",
      "{\"name\": \"next_number\", \"arguments\": {\"x\":2}}\n",
      "</tool_call>\n",
      "\n",
      "The tool has returned the next number in the sequence as `2` wh...[TRUNCATED]\n",
      "INFO (llm_agents_fs.TaskHandler) :      🧠 New Step: { \"tool_name\": \"next_number\", \"arguments\": { \"x\": 2 } }\n",
      "INFO (llm_agents_fs.TaskHandler) :      ⚙️ Processing Step: { \"tool_name\": \"next_number\", \"arguments\": { \"x\": 2 } }\n",
      "INFO (llm_agents_fs.TaskHandler) :      🛠️ Executing Tool Call: next_number\n",
      "INFO (llm_agents_fs.TaskHandler) :      ✅ Successful Tool Call: 1\n",
      "INFO (llm_agents_fs.TaskHandler) :      ✅ Step Result: The tool has returned the next number in the sequence as `1` when called with `x=2. Now, we have reached the end of our sequence.\n",
      "\n",
      "To s...[TRUNCATED]\n",
      "INFO (llm_agents_fs.TaskHandler) :      🧠 New Step: The current instruction is to generate the sequence starting with `x=3` and stop when reaching the number `1`. Based on the previous steps...[TRUNCATED]\n",
      "INFO (llm_agents_fs.TaskHandler) :      ⚙️ Processing Step: The current instruction is to generate the sequence starting with `x=3` and stop when reaching the number `1`. Based on the previo...[TRUNCATED]\n",
      "INFO (llm_agents_fs.TaskHandler) :      🛠️ Executing Tool Call: next_number\n",
      "INFO (llm_agents_fs.TaskHandler) :      ✅ Successful Tool Call: 10\n",
      "INFO (llm_agents_fs.TaskHandler) :      ✅ Step Result: <tool_call>\n",
      "{\"name\": \"next_number\", \"arguments\": {\"x\":10}}  \n",
      "</tool_call>\n",
      "INFO (llm_agents_fs.TaskHandler) :      No new step required.\n",
      "INFO (llm_agents_fs.LLMAgent) :      🏁 Task completed: [3, 10, 5, 16, 8, 4, 2, 1]\n"
     ]
    }
   ],
   "source": [
    "handlers = []\n",
    "for ex in benchmark:\n",
    "    h = llm_agent.run(\n",
    "        Task(\n",
    "            instruction=instruction_template.format(x=ex.number),\n",
    "        ),\n",
    "        max_steps=30,\n",
    "    )\n",
    "    handlers.append(h)"
   ]
  },
  {
   "cell_type": "code",
   "execution_count": 27,
   "id": "46def559-27e2-432a-acae-ba66fc6a7f1c",
   "metadata": {},
   "outputs": [
    {
     "data": {
      "text/plain": [
       "[True, True, True, True, True]"
      ]
     },
     "execution_count": 27,
     "metadata": {},
     "output_type": "execute_result"
    }
   ],
   "source": [
    "[h.done() for h in handlers]"
   ]
  },
  {
   "cell_type": "code",
   "execution_count": 28,
   "id": "a5525a24-88e2-458c-bbc0-29791573dedb",
   "metadata": {},
   "outputs": [
    {
     "data": {
      "text/plain": [
       "[TaskResult(task_id='4faa60dd-1596-4ff2-bfb9-684442588557', content='[11, 34, 17, 52, 26, 1]'),\n",
       " TaskResult(task_id='5bab8201-c952-4617-a1cb-18b28370651e', content='The sequence from start to finish is: 13, 40, 20, 10, 5, 8, 4, 2, 1.'),\n",
       " TaskResult(task_id='550e07e3-8231-4ebe-b345-0e3a8c85765c', content='4 -> 2 -> 1'),\n",
       " TaskResult(task_id='33e47a4b-3aa8-49ad-a9da-48a3d1517867', content='[3, 10, 5, 16, 8, 4, 2, 1]'),\n",
       " TaskResult(task_id='014da613-0a11-4b7b-bbcb-fdfa9d6e20fc', content='[2, 1, 4]')]"
      ]
     },
     "execution_count": 28,
     "metadata": {},
     "output_type": "execute_result"
    }
   ],
   "source": [
    "[h.result() for h in handlers]"
   ]
  },
  {
   "cell_type": "markdown",
   "id": "77e16726-db46-4b76-8e56-597952dc3a5c",
   "metadata": {},
   "source": [
    "## Result Correctness Evaluation"
   ]
  },
  {
   "cell_type": "markdown",
   "id": "cb90938b-d731-4e3c-a2fb-4dea60911a1b",
   "metadata": {},
   "source": [
    "### Setup Judge LLM"
   ]
  },
  {
   "cell_type": "code",
   "execution_count": 29,
   "id": "cb6aa49b-98bc-4b57-8830-71e4969cf504",
   "metadata": {},
   "outputs": [],
   "source": [
    "judge_prompt_template = \"\"\"You are an evaluation assistant. Given a number and its correct\n",
    "sequence, use them to assess whether another assistants final result contains the correct sequence.\n",
    "\n",
    "<number>\n",
    "{number}\n",
    "</number>\n",
    "\n",
    "<sequence>\n",
    "{sequence}\n",
    "</sequence>\n",
    "\n",
    "<result>\n",
    "{result}\n",
    "</result>\n",
    "\"\"\""
   ]
  },
  {
   "cell_type": "markdown",
   "id": "8bbccc2e-e91f-4980-92a9-84d4848a83ae",
   "metadata": {},
   "source": [
    "#### Structured outputs for final result correctness evaluation"
   ]
  },
  {
   "cell_type": "code",
   "execution_count": 30,
   "id": "e2a4c814-100b-481f-9530-06b74a551bd2",
   "metadata": {},
   "outputs": [],
   "source": [
    "from pydantic import Field\n",
    "\n",
    "\n",
    "class ExampleResultEvaluation(BaseModel):\n",
    "    \"\"\"Evaluation of result.\"\"\"\n",
    "\n",
    "    correct: bool = Field(\n",
    "        description=\"True if the assistant's final result contains the correct sequence. False otherwise.\",\n",
    "    )"
   ]
  },
  {
   "cell_type": "code",
   "execution_count": 31,
   "id": "b5846d32-a876-4df6-be7b-9db8959288f3",
   "metadata": {},
   "outputs": [
    {
     "data": {
      "text/plain": [
       "[ExampleResultEvaluation(correct=False),\n",
       " ExampleResultEvaluation(correct=False),\n",
       " ExampleResultEvaluation(correct=True),\n",
       " ExampleResultEvaluation(correct=True),\n",
       " ExampleResultEvaluation(correct=False)]"
      ]
     },
     "execution_count": 31,
     "metadata": {},
     "output_type": "execute_result"
    }
   ],
   "source": [
    "import asyncio\n",
    "\n",
    "eval_async_tasks = []\n",
    "for ex, handler in zip(benchmark, handlers, strict=False):\n",
    "    async_task = llm.structured_output(\n",
    "        prompt=judge_prompt_template.format(\n",
    "            number=ex.number,\n",
    "            sequence=ex.sequence,\n",
    "            result=str(handler.result()),\n",
    "        ),\n",
    "        mdl=ExampleResultEvaluation,\n",
    "    )\n",
    "    eval_async_tasks.append(async_task)\n",
    "\n",
    "result_evals = await asyncio.gather(*eval_async_tasks)\n",
    "result_evals"
   ]
  },
  {
   "cell_type": "markdown",
   "id": "84998e96-8356-4559-a6ad-44f4bb6001cd",
   "metadata": {},
   "source": [
    "## Number Steps Evaluation"
   ]
  },
  {
   "cell_type": "code",
   "execution_count": 32,
   "id": "8e1aaef3-940c-494d-adec-9a8083a69b62",
   "metadata": {},
   "outputs": [
    {
     "data": {
      "text/plain": [
       "[-10, -6, -1, 1, 1]"
      ]
     },
     "execution_count": 32,
     "metadata": {},
     "output_type": "execute_result"
    }
   ],
   "source": [
    "num_steps_diff = [\n",
    "    (h.step_counter - ex.min_steps)\n",
    "    for h, ex in zip(handlers, benchmark, strict=False)\n",
    "]\n",
    "num_steps_diff"
   ]
  },
  {
   "cell_type": "markdown",
   "id": "049a5c20-0839-401e-9c66-de9e9757c307",
   "metadata": {},
   "source": [
    "## LLM Agent Trajectory Evaluation"
   ]
  },
  {
   "cell_type": "markdown",
   "id": "576af8a6-bba3-44f7-8663-74018eecc0f4",
   "metadata": {},
   "source": [
    "### LLM Judge Setup"
   ]
  },
  {
   "cell_type": "code",
   "execution_count": 33,
   "id": "0d7036e2-96b9-4173-b98b-43648446c8ba",
   "metadata": {},
   "outputs": [],
   "source": [
    "trajectory_judge_prompt_template = \"\"\"You are an evaluation assistant for evaluating another\n",
    "assistant's reasoning trajectory for solving a sequence generation task. The instruction and correct\n",
    "sequence is provided in addition to the trajectory of the assistant. Use the provided rubric\n",
    "to provide an evaluation of the trajectory.\n",
    "\n",
    "INSTRUCTION:\n",
    "{instruction}\n",
    "\n",
    "SEQUENCE:\n",
    "{sequence}\n",
    "\n",
    "TRAJECTORY:\n",
    "{trajectory}\n",
    "\n",
    "RUBRIC:\n",
    "Reasoning (0-5): Does the assistant follow logical steps and make sound decisions?\n",
    "Process (0-5): Does the assistant follow proper tool usage and protocols?\n",
    "\n",
    "Provide a score, with 0 being lowest and 5 the highest, for each dimension and brief justification.\n",
    "\n",
    "WARNINGS:\n",
    "DO NOT DEDUCT FOR THE SAME ERROR MORE THAN ONCE. If an issue affects multiple dimensions, choose the most relevant dimension to dock points.\n",
    "\"\"\""
   ]
  },
  {
   "cell_type": "code",
   "execution_count": 34,
   "id": "9fab4b3a-ea39-4eb5-98bf-cea7b3b0d95b",
   "metadata": {},
   "outputs": [],
   "source": [
    "from typing import Literal\n",
    "\n",
    "\n",
    "class DimensionScore(BaseModel):\n",
    "    \"\"\"Model for a dimension score.\"\"\"\n",
    "\n",
    "    score: Literal[0, 1, 2, 3, 4, 5] = Field(\n",
    "        description=\"Overall score on the dimension.\",\n",
    "    )\n",
    "    justification: str = Field(\n",
    "        description=\"Justification for the score.\",\n",
    "    )\n",
    "\n",
    "\n",
    "class ExampleTrajectoryEvaluation(BaseModel):\n",
    "    \"\"\"Evaluation of LLM agent trajectory.\"\"\"\n",
    "\n",
    "    reasoning: DimensionScore\n",
    "    process: DimensionScore"
   ]
  },
  {
   "cell_type": "code",
   "execution_count": 35,
   "id": "e4edb582-ac3a-46af-b5da-cb5f0c307bbe",
   "metadata": {},
   "outputs": [
    {
     "data": {
      "text/plain": [
       "[ExampleTrajectoryEvaluation(reasoning=DimensionScore(score=3, justification=\"The assistant correctly follows the steps and uses the `next_number` tool as instructed. However, there are some issues in the process that affect the reasoning aspect. The assistant did not wait for the actual response from the tool before making its next tool call, which violates the 'STOP and WAIT' warning. This could have led to incorrect sequences or skipped steps if a non-expected error occurred. Additionally, once the sequence reaches 26, the assistant made two consecutive tool calls with `x` set to 26, which is not necessary given that the tool will return the same result each time for this value (26 -> 13 -> 40 -> etc.).\"), process=DimensionScore(score=2, justification='The assistant does follow the proper protocol of making tool calls and using the `next_number` tool as instructed. However, the issues with the tool calls are not addressed here because they affect the reasoning aspect.')),\n",
       " ExampleTrajectoryEvaluation(reasoning=DimensionScore(score=3, justification='The assistant follows a logical sequence of steps by calling the `next_number` tool in each step as instructed. However, there is room for improvement in ensuring that the exact number and sequence are accurately recorded without any errors or omissions. The process was followed correctly according to the instructions.'), process=DimensionScore(score=4, justification='The assistant makes one tool call at a time as required by the instructions, waits for the response before making the next call, and does not fabricate results. The sequence of calls is correct and follows the given rules without any violations or errors.')),\n",
       " ExampleTrajectoryEvaluation(reasoning=DimensionScore(score=2, justification='The assistant attempts to follow the given instructions but makes a logical error by calling `next_number` on incorrect numbers (e.g., 125 and 376) after correctly identifying 4 -> 2 -> 1. This shows some understanding of the pattern but misinterprets the sequence generation task.'), process=DimensionScore(score=0, justification='The assistant does not follow proper protocol as evidenced by the incorrect tool calls (e.g., calling `next_number` on numbers that are clearly not part of the given sequence once it reaches 2 and 1). This is a critical flaw in following the instructions.')),\n",
       " ExampleTrajectoryEvaluation(reasoning=DimensionScore(score=4, justification='The assistant follows a logical sequence of steps and makes sound decisions throughout the process. However, there are minor repetitions and redundant tool calls that could be optimized for efficiency.'), process=DimensionScore(score=3, justification='The assistant generally adheres to the provided instructions and tools correctly. However, there is one tool call that appears unnecessary (the last tool call: `{ ')),\n",
       " ExampleTrajectoryEvaluation(reasoning=DimensionScore(score=2, justification='The assistant followed the given instructions correctly by making tool calls with the appropriate arguments. However, there were some logical errors in understanding the sequence generation process, which affected the reasoning aspect.'), process=DimensionScore(score=3, justification='The assistant correctly made multiple tool calls as per the instruction, but the misunderstanding of the sequence caused it to call `next_number` on a number other than the current one (e.g., calling it with x=4 instead of x=1). This led to an incorrect result and suggests a lack of understanding about the expected sequence generation process.'))]"
      ]
     },
     "execution_count": 35,
     "metadata": {},
     "output_type": "execute_result"
    }
   ],
   "source": [
    "eval_async_tasks = []\n",
    "for ex, handler in zip(benchmark, handlers, strict=False):\n",
    "    async_task = llm.structured_output(\n",
    "        prompt=trajectory_judge_prompt_template.format(\n",
    "            instruction=instruction_template.format(x=ex.number),\n",
    "            sequence=ex.sequence,\n",
    "            trajectory=handler.rollout,\n",
    "        ),\n",
    "        mdl=ExampleTrajectoryEvaluation,\n",
    "    )\n",
    "    eval_async_tasks.append(async_task)\n",
    "\n",
    "trajectory_evals = await asyncio.gather(*eval_async_tasks)\n",
    "trajectory_evals"
   ]
  },
  {
   "cell_type": "markdown",
   "id": "b7795ff7-a3c4-44cd-8767-52340e1bb9fd",
   "metadata": {},
   "source": [
    "### Create Eval summary report"
   ]
  },
  {
   "cell_type": "code",
   "execution_count": 80,
   "id": "cd61843d-c142-426a-b354-b81b5ba08b64",
   "metadata": {},
   "outputs": [],
   "source": [
    "!uv pip install pandas tabulate -q"
   ]
  },
  {
   "cell_type": "code",
   "execution_count": 36,
   "id": "4e4b6188-724b-49a2-b13b-f3cde43e5814",
   "metadata": {},
   "outputs": [],
   "source": [
    "import pandas as pd"
   ]
  },
  {
   "cell_type": "code",
   "execution_count": null,
   "id": "2fb6f547-ea9d-4330-ae70-4e28e90eed9a",
   "metadata": {},
   "outputs": [
    {
     "name": "stdout",
     "output_type": "stream",
     "text": [
      "|         |   result_correctness |   number_steps_diff |   trajectory_reasoning |   trajectory_process |   trajectory_overall |\n",
      "|:--------|---------------------:|--------------------:|-----------------------:|---------------------:|---------------------:|\n",
      "| 0       |                  0   |                 -10 |                    3   |                  2   |                  2.5 |\n",
      "| 1       |                  0   |                  -6 |                    3   |                  4   |                  3.5 |\n",
      "| 2       |                  1   |                  -1 |                    2   |                  0   |                  1   |\n",
      "| 3       |                  1   |                   1 |                    4   |                  3   |                  3.5 |\n",
      "| 4       |                  0   |                   1 |                    2   |                  3   |                  2.5 |\n",
      "| Average |                  0.4 |                  -3 |                    2.8 |                  2.4 |                  2.6 |\n"
     ]
    }
   ],
   "source": [
    "report = pd.DataFrame(\n",
    "    data={\n",
    "        \"result_correctness\": [int(el.correct) for el in result_evals],\n",
    "        \"number_steps_diff\": num_steps_diff,\n",
    "        \"trajectory_reasoning\": [e.reasoning.score for e in trajectory_evals],\n",
    "        \"trajectory_process\": [e.process.score for e in trajectory_evals],\n",
    "        \"trajectory_overall\": [\n",
    "            (e.reasoning.score + e.process.score) / 2 for e in trajectory_evals\n",
    "        ],\n",
    "    },\n",
    ")\n",
    "report.loc[\"Average\"] = report.mean().round(2)\n",
    "print(report.to_markdown())"
   ]
  }
 ],
 "metadata": {
  "kernelspec": {
   "display_name": "Python 3 (ipykernel)",
   "language": "python",
   "name": "python3"
  },
  "language_info": {
   "codemirror_mode": {
    "name": "ipython",
    "version": 3
   },
   "file_extension": ".py",
   "mimetype": "text/x-python",
   "name": "python",
   "nbconvert_exporter": "python",
   "pygments_lexer": "ipython3",
   "version": "3.13.5"
  }
 },
 "nbformat": 4,
 "nbformat_minor": 5
}
