{
 "cells": [
  {
   "cell_type": "markdown",
   "id": "c67463f6-e3b2-4d90-99b9-6be2013a2f44",
   "metadata": {},
   "source": [
    "# Examples from Chapter 2 — Working with Tools"
   ]
  },
  {
   "cell_type": "markdown",
   "id": "2d31c0dd-d317-4a05-8035-ccbcca0d1a17",
   "metadata": {},
   "source": [
    "## Setup Instructions\n",
    "\n",
    "To ensure you have the required dependencies to run this notebook, you'll need to have our `llm-agents-from-scratch` framework installed on the running Jupyter kernel. To do this, you can launch this notebook with the following command while within the project's root directory:\n",
    "\n",
    "```sh\n",
    "uv run --with jupyter jupyter lab\n",
    "```\n",
    "\n",
    "Alternatively, if you just want to use the published version of `llm-agents-from-scratch` without local development, you can install it from PyPi by uncommenting the cell below."
   ]
  },
  {
   "cell_type": "code",
   "execution_count": 1,
   "id": "06a84096-e6c3-442b-920e-a54febd8feba",
   "metadata": {},
   "outputs": [],
   "source": [
    "# Uncomment the line below to install `llm-agents-from-scratch` from PyPi\n",
    "# !pip install llm-agents-from-scratch"
   ]
  },
  {
   "cell_type": "markdown",
   "id": "aff60208-1491-499c-9759-ac04a01b98d1",
   "metadata": {},
   "source": [
    "## Examples"
   ]
  },
  {
   "cell_type": "markdown",
   "id": "936a6028-6896-4be5-a77a-7fbe52ef8a05",
   "metadata": {},
   "source": [
    "### Example 1: Creating a `ToolCall` object"
   ]
  },
  {
   "cell_type": "code",
   "execution_count": 2,
   "id": "717d7bda-fc0e-41d5-b351-ca2a08d15359",
   "metadata": {},
   "outputs": [],
   "source": [
    "from llm_agents_from_scratch.data_structures.tool import ToolCall\n",
    "\n",
    "croissant_tool_call = ToolCall(\n",
    "    tool_name=\"web-search-tool\",\n",
    "    arguments={\n",
    "        \"query\": \"Croissant bakeries in New York City and their prices.\",\n",
    "    },\n",
    ")"
   ]
  },
  {
   "cell_type": "code",
   "execution_count": 3,
   "id": "0fbcb637-e5f8-4b0b-9341-3411bd85dd59",
   "metadata": {},
   "outputs": [
    {
     "data": {
      "text/plain": [
       "ToolCall(id_='77148f15-74d5-4b38-9e9f-d39620bb7031', tool_name='web-search-tool', arguments={'query': 'Croissant bakeries in New York City and their prices.'})"
      ]
     },
     "execution_count": 3,
     "metadata": {},
     "output_type": "execute_result"
    }
   ],
   "source": [
    "croissant_tool_call"
   ]
  },
  {
   "cell_type": "markdown",
   "id": "79f0e4f3-50a6-4f32-bd69-f902421cbf5a",
   "metadata": {},
   "source": [
    "### Example 2: Creating a `ToolCallResult` object"
   ]
  },
  {
   "cell_type": "code",
   "execution_count": 4,
   "id": "236c7ffb-2f71-4621-8f12-6e14dda31a4f",
   "metadata": {},
   "outputs": [],
   "source": [
    "from llm_agents_from_scratch.data_structures.tool import ToolCallResult\n",
    "\n",
    "result = ToolCallResult(\n",
    "    tool_call_id=croissant_tool_call.id_,\n",
    "    content={\n",
    "        \"search_results\": {\n",
    "            \"hits\": [\n",
    "                {\"data\": \"...\"},\n",
    "            ],\n",
    "        },\n",
    "    },\n",
    ")"
   ]
  },
  {
   "cell_type": "code",
   "execution_count": 5,
   "id": "543e6bf2-7743-4868-9642-b23435f8b799",
   "metadata": {},
   "outputs": [
    {
     "data": {
      "text/plain": [
       "ToolCallResult(tool_call_id='77148f15-74d5-4b38-9e9f-d39620bb7031', content={'search_results': {'hits': [{'data': '...'}]}}, error=False)"
      ]
     },
     "execution_count": 5,
     "metadata": {},
     "output_type": "execute_result"
    }
   ],
   "source": [
    "result"
   ]
  },
  {
   "cell_type": "markdown",
   "id": "ee3c0d51-ffea-482a-bbca-65cc9ee00e10",
   "metadata": {},
   "source": [
    "### Example 3: The Hailstone Tool"
   ]
  },
  {
   "cell_type": "code",
   "execution_count": 6,
   "id": "12b750fd-ed06-4e73-be09-b338e15fb1dd",
   "metadata": {},
   "outputs": [],
   "source": [
    "from typing import Any\n",
    "\n",
    "from llm_agents_from_scratch.base.tool import BaseTool\n",
    "from llm_agents_from_scratch.data_structures.tool import (\n",
    "    ToolCall,\n",
    "    ToolCallResult,\n",
    ")\n",
    "\n",
    "\n",
    "class Hailstone(BaseTool):  # A\n",
    "    @property\n",
    "    def name(self) -> str:\n",
    "        return \"hailstone\"\n",
    "\n",
    "    @property\n",
    "    def description(self) -> str:\n",
    "        return \"A tool that performs a Hailstone step on a given input number.\"\n",
    "\n",
    "    @property\n",
    "    def parameters_json_schema(self) -> dict[str, Any]:\n",
    "        \"\"\"JSON Schema for tool parameters.\"\"\"\n",
    "        return {\n",
    "            \"type\": \"object\",\n",
    "            \"properties\": {\n",
    "                \"x\": {\n",
    "                    \"type\": \"number\",\n",
    "                    \"description\": \"The input number.\",\n",
    "                },\n",
    "            },\n",
    "            \"required\": [\"x\"],\n",
    "        }\n",
    "\n",
    "    def __call__(\n",
    "        self,\n",
    "        tool_call: ToolCall,\n",
    "        *args: Any,\n",
    "        **kwargs: Any,\n",
    "    ) -> ToolCallResult:\n",
    "        \"\"\"Execute the tool call.\"\"\"\n",
    "        x = tool_call.arguments.get(\"x\")\n",
    "        if x % 2 == 0:\n",
    "            result = x // 2\n",
    "        else:\n",
    "            result = (x * 3) + 1\n",
    "\n",
    "        return ToolCallResult(\n",
    "            tool_call_id=tool_call.id_,\n",
    "            content=result,\n",
    "            error=False,\n",
    "        )"
   ]
  },
  {
   "cell_type": "markdown",
   "id": "d7120643-a8c4-426f-b921-047cf0f9283a",
   "metadata": {},
   "source": [
    "Invoking the Hailstone tool:"
   ]
  },
  {
   "cell_type": "code",
   "execution_count": 7,
   "id": "6bda157e-56ee-4d96-94f6-fad78da3237e",
   "metadata": {},
   "outputs": [
    {
     "name": "stdout",
     "output_type": "stream",
     "text": [
      "tool_call_id='935bde41-5805-4bbe-9828-93b06625ab36' content=10 error=False\n"
     ]
    }
   ],
   "source": [
    "hailstone_tool = Hailstone()\n",
    "\n",
    "tool_call = ToolCall(\n",
    "    tool_name=\"hailstone\",\n",
    "    arguments={\"x\": 3},\n",
    ")\n",
    "\n",
    "tool_call_result = hailstone_tool(tool_call)\n",
    "print(tool_call_result)"
   ]
  },
  {
   "cell_type": "markdown",
   "id": "02b5dece-98d2-431a-98e2-4cb66e1db425",
   "metadata": {},
   "source": [
    "### Example 4: The Hailstone step function (to be used in `SimpleFunctionTool`)"
   ]
  },
  {
   "cell_type": "code",
   "execution_count": 8,
   "id": "10cdefd1-1f38-457d-bb1c-4eb5093d74c2",
   "metadata": {},
   "outputs": [],
   "source": [
    "def hailstone_step_func(x: int) -> int:\n",
    "    \"\"\"Performs a single step of the Hailstone sequence.\"\"\"\n",
    "    if x % 2 == 0:\n",
    "        return x // 2\n",
    "    return 3 * x + 1"
   ]
  },
  {
   "cell_type": "markdown",
   "id": "1865a68c-3aa3-436b-9b0b-a20e1215bcce",
   "metadata": {},
   "source": [
    "### Example 5: Hailstone step function as a `SimpleFunctionTool`"
   ]
  },
  {
   "cell_type": "code",
   "execution_count": 9,
   "id": "e898eb77-9b78-4321-ae78-ba539045e2a5",
   "metadata": {},
   "outputs": [
    {
     "name": "stdout",
     "output_type": "stream",
     "text": [
      "hailstone_step_func\n",
      "Performs a single step of the Hailstone sequence.\n",
      "{'type': 'object', 'properties': {'x': {'type': 'number'}}, 'required': ['x']}\n"
     ]
    }
   ],
   "source": [
    "from llm_agents_from_scratch.tools.simple_function import SimpleFunctionTool\n",
    "\n",
    "# convert our Python function to a BaseTool\n",
    "hailstone_tool = SimpleFunctionTool(hailstone_step_func)\n",
    "\n",
    "print(hailstone_tool.name)\n",
    "print(hailstone_tool.description)\n",
    "print(hailstone_tool.parameters_json_schema)"
   ]
  },
  {
   "cell_type": "markdown",
   "id": "0ffc5e16-ce50-426f-a40a-5533940812f3",
   "metadata": {},
   "source": [
    "### Example 6: Running the previous Hailstone `tool_call` with the alternative `SimpleFunctionTool` implementation"
   ]
  },
  {
   "cell_type": "code",
   "execution_count": 10,
   "id": "a986c945-1939-488d-8391-1a116236ebbe",
   "metadata": {},
   "outputs": [],
   "source": [
    "from llm_agents_from_scratch.data_structures import ToolCall\n",
    "\n",
    "tool_call = ToolCall(\n",
    "    tool_name=\"hailstone_fn\",\n",
    "    arguments={\"x\": 3},\n",
    ")\n",
    "\n",
    "res = hailstone_tool(tool_call)"
   ]
  },
  {
   "cell_type": "code",
   "execution_count": 11,
   "id": "90501af6-da70-4756-97f6-254fb27fe205",
   "metadata": {},
   "outputs": [
    {
     "data": {
      "text/plain": [
       "ToolCallResult(tool_call_id='b37fa814-8aa4-49a3-9037-b3c73d9817a5', content='10', error=False)"
      ]
     },
     "execution_count": 11,
     "metadata": {},
     "output_type": "execute_result"
    }
   ],
   "source": [
    "res"
   ]
  },
  {
   "cell_type": "markdown",
   "id": "3ef4b891-d557-47e3-97a0-e75889bcdc35",
   "metadata": {},
   "source": [
    "### Example 7: Example usage of `PydanticFunctionTool`"
   ]
  },
  {
   "cell_type": "code",
   "execution_count": 12,
   "id": "3a26f502-ec16-4e8c-939d-6b04a0e617b9",
   "metadata": {},
   "outputs": [],
   "source": [
    "from pydantic import BaseModel\n",
    "\n",
    "\n",
    "class MyFuncParams(BaseModel):\n",
    "    x: int\n",
    "\n",
    "\n",
    "def my_func(params: MyFuncParams) -> int:\n",
    "    print(params.x)"
   ]
  },
  {
   "cell_type": "code",
   "execution_count": 13,
   "id": "3e47b88e-79a5-4160-91a1-fe3ecf0274ac",
   "metadata": {},
   "outputs": [],
   "source": [
    "from llm_agents_from_scratch.tools.pydantic_function import PydanticFunctionTool\n",
    "\n",
    "tool = PydanticFunctionTool(my_func)"
   ]
  },
  {
   "cell_type": "code",
   "execution_count": 14,
   "id": "45297673-c3e5-4e65-a550-1d7ecc941c36",
   "metadata": {},
   "outputs": [
    {
     "data": {
      "text/plain": [
       "<llm_agents_from_scratch.tools.pydantic_function.PydanticFunctionTool at 0x71ba2da6c590>"
      ]
     },
     "execution_count": 14,
     "metadata": {},
     "output_type": "execute_result"
    }
   ],
   "source": [
    "tool"
   ]
  }
 ],
 "metadata": {
  "kernelspec": {
   "display_name": "Python 3 (ipykernel)",
   "language": "python",
   "name": "python3"
  },
  "language_info": {
   "codemirror_mode": {
    "name": "ipython",
    "version": 3
   },
   "file_extension": ".py",
   "mimetype": "text/x-python",
   "name": "python",
   "nbconvert_exporter": "python",
   "pygments_lexer": "ipython3",
   "version": "3.13.5"
  }
 },
 "nbformat": 4,
 "nbformat_minor": 5
}
