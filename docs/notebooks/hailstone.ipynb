{
 "cells": [
  {
   "cell_type": "markdown",
   "id": "915de20c-9761-4652-8cb2-a81dae481bae",
   "metadata": {},
   "source": [
    "# Our First LLMAgent — Hailstone"
   ]
  },
  {
   "cell_type": "code",
   "execution_count": 1,
   "id": "906130e6-89a0-4201-979d-0c8cd1e35abd",
   "metadata": {},
   "outputs": [],
   "source": [
    "LOGGING_ENABLED = True"
   ]
  },
  {
   "cell_type": "code",
   "execution_count": 2,
   "id": "4e298478-b49e-45cb-b508-d0feca82b55d",
   "metadata": {},
   "outputs": [],
   "source": [
    "import logging\n",
    "\n",
    "from llm_agents_from_scratch.logger import enable_console_logging\n",
    "\n",
    "if LOGGING_ENABLED:\n",
    "    enable_console_logging(logging.INFO)"
   ]
  },
  {
   "cell_type": "markdown",
   "id": "cfaeb6a0-7a78-48f7-983d-080eb8410083",
   "metadata": {},
   "source": [
    "## Define the Hailstone Tool"
   ]
  },
  {
   "cell_type": "code",
   "execution_count": 3,
   "id": "e0e34708-d805-4986-8615-6094a6f770b9",
   "metadata": {},
   "outputs": [],
   "source": [
    "from pydantic import BaseModel\n",
    "\n",
    "from llm_agents_from_scratch.tools import PydanticFunctionTool\n",
    "\n",
    "\n",
    "class AlgoParams(BaseModel):\n",
    "    \"\"\"Params for next_number.\"\"\"\n",
    "\n",
    "    x: int\n",
    "\n",
    "\n",
    "def next_number(params: AlgoParams) -> int:\n",
    "    \"\"\"Generate the next number of the sequence.\"\"\"\n",
    "    if params.x % 2 == 0:\n",
    "        return params.x // 2\n",
    "    return 3 * params.x + 1\n",
    "\n",
    "\n",
    "# convert our Python function to a BaseTool\n",
    "tool = PydanticFunctionTool(next_number)"
   ]
  },
  {
   "cell_type": "markdown",
   "id": "153d1f85-70d2-4ea5-a076-e83e01058c7d",
   "metadata": {},
   "source": [
    "## Define our backbone LLM"
   ]
  },
  {
   "cell_type": "code",
   "execution_count": 4,
   "id": "b5761c29-41d5-41a8-822f-e6acd3c321f5",
   "metadata": {},
   "outputs": [],
   "source": [
    "from llm_agents_from_scratch.llms import OllamaLLM"
   ]
  },
  {
   "cell_type": "code",
   "execution_count": 5,
   "id": "5b5110cf-8f0a-44fa-a3a1-6cf895ce1c46",
   "metadata": {},
   "outputs": [],
   "source": [
    "llm = OllamaLLM(model=\"qwen2.5:3b\")"
   ]
  },
  {
   "cell_type": "markdown",
   "id": "545c892a-1dad-44f5-904f-7b0ee367f8a5",
   "metadata": {},
   "source": [
    "## Define the LLMAgent"
   ]
  },
  {
   "cell_type": "code",
   "execution_count": 6,
   "id": "d6929e4f-fd56-4368-99db-d998b6bc4b20",
   "metadata": {},
   "outputs": [],
   "source": [
    "from llm_agents_from_scratch import LLMAgent"
   ]
  },
  {
   "cell_type": "code",
   "execution_count": 7,
   "id": "6ddaa118-5ea0-4455-949d-5505e23a50bc",
   "metadata": {},
   "outputs": [],
   "source": [
    "llm_agent = LLMAgent(\n",
    "    llm=llm,\n",
    "    tools=[tool],\n",
    ")"
   ]
  },
  {
   "cell_type": "markdown",
   "id": "e59458d1-7e51-4533-8e50-90f623c1e4e0",
   "metadata": {},
   "source": [
    "## Define the Hailstone Task"
   ]
  },
  {
   "cell_type": "code",
   "execution_count": 8,
   "id": "036ab66a-bf43-4186-9e2b-425c6adc0de2",
   "metadata": {},
   "outputs": [],
   "source": [
    "from llm_agents_from_scratch.data_structures import Task"
   ]
  },
  {
   "cell_type": "code",
   "execution_count": 9,
   "id": "5cab3cb2-0fed-4562-a4a7-20ff46ec812b",
   "metadata": {},
   "outputs": [],
   "source": [
    "instruction_template = \"\"\"You are given a tool, `next_number`, that generates the next number in the sequence given the current number.\n",
    "\n",
    "Start with the number x={x}.\n",
    "\n",
    "<rules>\n",
    "CALL `next_number` on the current number x\n",
    "STOP AND WAIT for the result.\n",
    "REPEAT this step-by-step process until the number 1 is reached.\n",
    "FINAL RESULT: When you receive the number 1, provide the complete sequence\n",
    "you observed from start to finish (including the starting number x and\n",
    "ending number 1).\n",
    "</rules>\n",
    "\n",
    "<warnings>\n",
    "NEVER fabricate or simulate tool call results\n",
    "NEVER make multiple tool calls in one response\n",
    "STOP and WAIT - ALWAYS wait for the actual tool response before deciding next steps\n",
    "</warnings>\n",
    "\"\"\""
   ]
  },
  {
   "cell_type": "code",
   "execution_count": 10,
   "id": "150dc832-9716-4bcd-857b-137a87810c25",
   "metadata": {},
   "outputs": [],
   "source": [
    "task = Task(\n",
    "    instruction=instruction_template.format(x=4),\n",
    ")"
   ]
  },
  {
   "cell_type": "code",
   "execution_count": 11,
   "id": "b30f5431-236e-403a-a1b5-6a6d13a537f1",
   "metadata": {},
   "outputs": [
    {
     "name": "stdout",
     "output_type": "stream",
     "text": [
      "INFO (llm_agents_fs.LLMAgent) :      🚀 Starting task: You are given a tool, `next_number`, that generates the next number in the sequence given the current number.\n",
      "\n",
      "Start with the number ...[TRUNCATED]\n",
      "INFO (llm_agents_fs.TaskHandler) :      ⚙️ Processing Step: You are given a tool, `next_number`, that generates the next number in the sequence given the current number.\n",
      "\n",
      "Start with the numb...[TRUNCATED]\n",
      "INFO (llm_agents_fs.TaskHandler) :      🛠️ Executing Tool Call: next_number\n",
      "INFO (llm_agents_fs.TaskHandler) :      ✅ Successful Tool Call: 2\n",
      "INFO (llm_agents_fs.TaskHandler) :      ✅ Step Result: <tool_call>\n",
      "{\"name\": \"next_number\", \"arguments\": {\"x\":2}}\n",
      "</tool_call>\n",
      "INFO (llm_agents_fs.TaskHandler) :      🧠 New Step: CALL `next_number` on the current number x=2\n",
      "INFO (llm_agents_fs.TaskHandler) :      ⚙️ Processing Step: CALL `next_number` on the current number x=2\n",
      "INFO (llm_agents_fs.TaskHandler) :      🛠️ Executing Tool Call: next_number\n",
      "INFO (llm_agents_fs.TaskHandler) :      ✅ Successful Tool Call: 1\n",
      "INFO (llm_agents_fs.TaskHandler) :      ✅ Step Result: We have reached the number 1. The sequence from start to finish is as follows:\n",
      "\n",
      "4, 2, 1\n",
      "\n",
      "This completes the task.\n",
      "INFO (llm_agents_fs.TaskHandler) :      No new step required.\n",
      "INFO (llm_agents_fs.LLMAgent) :      🏁 Task completed: The complete sequence observed from start to finish (including the starting number x and ending number 1) is: 4, 2, 1.\n"
     ]
    }
   ],
   "source": [
    "handler = llm_agent.run(task)"
   ]
  },
  {
   "cell_type": "code",
   "execution_count": 12,
   "id": "41b93286-bc46-4f88-86cc-5ff26dc0ba9d",
   "metadata": {},
   "outputs": [
    {
     "data": {
      "text/plain": [
       "True"
      ]
     },
     "execution_count": 12,
     "metadata": {},
     "output_type": "execute_result"
    }
   ],
   "source": [
    "handler.done()"
   ]
  },
  {
   "cell_type": "markdown",
   "id": "849a033e-9b3d-403b-a2f5-772344c6911c",
   "metadata": {},
   "source": [
    "# See the TaskResult"
   ]
  },
  {
   "cell_type": "code",
   "execution_count": 13,
   "id": "a1da2dca-1bc4-4354-9dd8-b1273fbf407a",
   "metadata": {},
   "outputs": [],
   "source": [
    "result = handler.result()"
   ]
  },
  {
   "cell_type": "code",
   "execution_count": 14,
   "id": "3d245e14-08c8-4404-b89e-ae8d68e90a19",
   "metadata": {},
   "outputs": [
    {
     "name": "stdout",
     "output_type": "stream",
     "text": [
      "The complete sequence observed from start to finish (including the starting number x and ending number 1) is: 4, 2, 1.\n"
     ]
    }
   ],
   "source": [
    "print(result)"
   ]
  },
  {
   "cell_type": "markdown",
   "id": "693921d3-a013-4fe0-a0cf-6dac28401fdf",
   "metadata": {},
   "source": [
    "### See the Rollout"
   ]
  },
  {
   "cell_type": "code",
   "execution_count": 15,
   "id": "62341232-7788-4823-a633-24373441852f",
   "metadata": {},
   "outputs": [
    {
     "name": "stdout",
     "output_type": "stream",
     "text": [
      "=== Task Step Start ===\n",
      "\n",
      "💬 assistant: The current instruction is 'You are given a tool, `next_number`, that generates the next number in the sequence given the current number.\n",
      "\n",
      "Start with the number x=4.\n",
      "\n",
      "<rules>\n",
      "CALL `next_number` on the current number x\n",
      "STOP AND WAIT for the result.\n",
      "REPEAT this step-by-step process until the number 1 is reached.\n",
      "FINAL RESULT: When you receive the number 1, provide the complete sequence\n",
      "you observed from start to finish (including the starting number x and\n",
      "ending number 1).\n",
      "</rules>\n",
      "\n",
      "<warnings>\n",
      "NEVER fabricate or simulate tool call results\n",
      "NEVER make multiple tool calls in one response\n",
      "STOP and WAIT - ALWAYS wait for the actual tool response before deciding next steps\n",
      "</warnings>\n",
      "'\n",
      "\n",
      "💬 assistant: I need to make the following tool call(s):\n",
      "\n",
      "{\n",
      "    \"tool_name\": \"next_number\",\n",
      "    \"arguments\": {\n",
      "        \"x\": 4\n",
      "    }\n",
      "}.\n",
      "\n",
      "💬 tool: {\n",
      "    \"tool_call\": {\n",
      "        \"tool_name\": \"next_number\",\n",
      "        \"arguments\": {\n",
      "            \"x\": 4\n",
      "        }\n",
      "    },\n",
      "    \"content\": \"2\",\n",
      "    \"error\": false\n",
      "}\n",
      "\n",
      "💬 assistant: <tool_call>\n",
      "{\"name\": \"next_number\", \"arguments\": {\"x\":2}}\n",
      "</tool_call>\n",
      "\n",
      "=== Task Step End ===\n",
      "\n",
      "=== Task Step Start ===\n",
      "\n",
      "💬 assistant: The current instruction is 'CALL `next_number` on the current number x=2'\n",
      "\n",
      "💬 assistant: I need to make the following tool call(s):\n",
      "\n",
      "{\n",
      "    \"tool_name\": \"next_number\",\n",
      "    \"arguments\": {\n",
      "        \"x\": 2\n",
      "    }\n",
      "}.\n",
      "\n",
      "💬 tool: {\n",
      "    \"tool_call\": {\n",
      "        \"tool_name\": \"next_number\",\n",
      "        \"arguments\": {\n",
      "            \"x\": 2\n",
      "        }\n",
      "    },\n",
      "    \"content\": \"1\",\n",
      "    \"error\": false\n",
      "}\n",
      "\n",
      "💬 assistant: We have reached the number 1. The sequence from start to finish is as follows:\n",
      "\n",
      "4, 2, 1\n",
      "\n",
      "This completes the task.\n",
      "\n",
      "=== Task Step End ===\n"
     ]
    }
   ],
   "source": [
    "print(handler.rollout)"
   ]
  },
  {
   "cell_type": "code",
   "execution_count": 16,
   "id": "5cbc5b9e-333d-4c9f-ab95-8a26fe5dc283",
   "metadata": {},
   "outputs": [
    {
     "data": {
      "text/plain": [
       "2"
      ]
     },
     "execution_count": 16,
     "metadata": {},
     "output_type": "execute_result"
    }
   ],
   "source": [
    "# number of task steps executed\n",
    "handler.step_counter"
   ]
  },
  {
   "cell_type": "markdown",
   "id": "8cc92798-8ca3-46ba-9277-78fcc64d1bba",
   "metadata": {},
   "source": [
    "## Evaluation"
   ]
  },
  {
   "cell_type": "code",
   "execution_count": 30,
   "id": "0ca3a07f-ea8c-457c-95c0-95194d4510d9",
   "metadata": {},
   "outputs": [],
   "source": [
    "from dataclasses import dataclass\n",
    "\n",
    "\n",
    "@dataclass\n",
    "class Example:\n",
    "    \"\"\"Benchmark example.\"\"\"\n",
    "\n",
    "    number: int\n",
    "    sequence: list[int]\n",
    "\n",
    "    @property\n",
    "    def min_steps(self) -> int:\n",
    "        \"\"\"Returns the minimum number of TaskSteps to perform the Task.\"\"\"\n",
    "        return len(self.sequence) - 1"
   ]
  },
  {
   "cell_type": "code",
   "execution_count": 31,
   "id": "152c75bb-229c-4f3d-abbb-4351df150f6f",
   "metadata": {},
   "outputs": [],
   "source": [
    "benchmark: list[Example] = [\n",
    "    Example(\n",
    "        number=11,\n",
    "        sequence=[11, 34, 17, 52, 26, 13, 40, 20, 10, 5, 16, 8, 4, 2, 1],\n",
    "    ),\n",
    "    Example(number=7, sequence=[4, 2, 1]),\n",
    "    Example(number=4, sequence=[4, 2, 1]),\n",
    "    Example(number=3, sequence=[3, 10, 5, 16, 8, 4, 2, 1]),\n",
    "    Example(number=2, sequence=[2, 1]),\n",
    "]"
   ]
  },
  {
   "cell_type": "markdown",
   "id": "83498468-5e76-4294-818b-3c62cff385f1",
   "metadata": {},
   "source": [
    "### Run tasks"
   ]
  },
  {
   "cell_type": "code",
   "execution_count": 34,
   "id": "aa48f3ad-7d9c-4e42-8cf2-babdaf37725e",
   "metadata": {
    "scrolled": true
   },
   "outputs": [
    {
     "name": "stdout",
     "output_type": "stream",
     "text": [
      "INFO (llm_agents_fs.LLMAgent) :      🚀 Starting task: You are given a tool, `next_number`, that generates the next number in the sequence given the current number.\n",
      "\n",
      "Start with the number ...[TRUNCATED]\n",
      "INFO (llm_agents_fs.TaskHandler) :      ⚙️ Processing Step: You are given a tool, `next_number`, that generates the next number in the sequence given the current number.\n",
      "\n",
      "Start with the numb...[TRUNCATED]\n",
      "INFO (llm_agents_fs.LLMAgent) :      🚀 Starting task: You are given a tool, `next_number`, that generates the next number in the sequence given the current number.\n",
      "\n",
      "Start with the number ...[TRUNCATED]\n",
      "INFO (llm_agents_fs.TaskHandler) :      ⚙️ Processing Step: You are given a tool, `next_number`, that generates the next number in the sequence given the current number.\n",
      "\n",
      "Start with the numb...[TRUNCATED]\n",
      "INFO (llm_agents_fs.LLMAgent) :      🚀 Starting task: You are given a tool, `next_number`, that generates the next number in the sequence given the current number.\n",
      "\n",
      "Start with the number ...[TRUNCATED]\n",
      "INFO (llm_agents_fs.TaskHandler) :      ⚙️ Processing Step: You are given a tool, `next_number`, that generates the next number in the sequence given the current number.\n",
      "\n",
      "Start with the numb...[TRUNCATED]\n",
      "INFO (llm_agents_fs.LLMAgent) :      🚀 Starting task: You are given a tool, `next_number`, that generates the next number in the sequence given the current number.\n",
      "\n",
      "Start with the number ...[TRUNCATED]\n",
      "INFO (llm_agents_fs.TaskHandler) :      ⚙️ Processing Step: You are given a tool, `next_number`, that generates the next number in the sequence given the current number.\n",
      "\n",
      "Start with the numb...[TRUNCATED]\n",
      "INFO (llm_agents_fs.LLMAgent) :      🚀 Starting task: You are given a tool, `next_number`, that generates the next number in the sequence given the current number.\n",
      "\n",
      "Start with the number ...[TRUNCATED]\n",
      "INFO (llm_agents_fs.TaskHandler) :      ⚙️ Processing Step: You are given a tool, `next_number`, that generates the next number in the sequence given the current number.\n",
      "\n",
      "Start with the numb...[TRUNCATED]\n",
      "INFO (llm_agents_fs.TaskHandler) :      🛠️ Executing Tool Call: next_number\n",
      "INFO (llm_agents_fs.TaskHandler) :      ✅ Successful Tool Call: 34\n",
      "INFO (llm_agents_fs.TaskHandler) :      🛠️ Executing Tool Call: next_number\n",
      "INFO (llm_agents_fs.TaskHandler) :      ✅ Successful Tool Call: 10\n",
      "INFO (llm_agents_fs.TaskHandler) :      🛠️ Executing Tool Call: next_number\n",
      "INFO (llm_agents_fs.TaskHandler) :      ✅ Successful Tool Call: 1\n",
      "INFO (llm_agents_fs.TaskHandler) :      🛠️ Executing Tool Call: next_number\n",
      "INFO (llm_agents_fs.TaskHandler) :      ✅ Successful Tool Call: 22\n",
      "INFO (llm_agents_fs.TaskHandler) :      🛠️ Executing Tool Call: next_number\n",
      "INFO (llm_agents_fs.TaskHandler) :      ✅ Successful Tool Call: 2\n",
      "INFO (llm_agents_fs.TaskHandler) :      ✅ Step Result: <tool_call>\n",
      "{\"name\": \"next_number\", \"arguments\": {\"x\":34}}\n",
      "</tool_call>\n",
      "INFO (llm_agents_fs.TaskHandler) :      ✅ Step Result: <tool_call>\n",
      "{\"name\": \"next_number\", \"arguments\": {\"x\":10}}\n",
      "</tool_call>\n",
      "INFO (llm_agents_fs.TaskHandler) :      ✅ Step Result: <tool_call>\n",
      "{\"name\": \"next_number\", \"arguments\": {\"x\":1}}\n",
      "</tool_call>\n",
      "INFO (llm_agents_fs.TaskHandler) :      ✅ Step Result: <tool_call>\n",
      "{\"name\": \"next_number\", \"arguments\": {\"x\": 22}}\n",
      "</tool_call>\n",
      "INFO (llm_agents_fs.TaskHandler) :      ✅ Step Result: <tool_call>\n",
      "{\"name\": \"next_number\", \"arguments\": {\"x\":2}}\n",
      "</tool_call>\n",
      "INFO (llm_agents_fs.TaskHandler) :      🧠 New Step: CALL `next_number` on the current number x (which is now 34)\n",
      "INFO (llm_agents_fs.TaskHandler) :      ⚙️ Processing Step: CALL `next_number` on the current number x (which is now 34)\n",
      "INFO (llm_agents_fs.TaskHandler) :      🧠 New Step: The tool returned the next number in the sequence as 10. The step-by-step process of generating the sequence has not yet been completed, b...[TRUNCATED]\n",
      "INFO (llm_agents_fs.TaskHandler) :      ⚙️ Processing Step: The tool returned the next number in the sequence as 10. The step-by-step process of generating the sequence has not yet been comp...[TRUNCATED]\n",
      "INFO (llm_agents_fs.TaskHandler) :      🧠 New Step: The tool call resulted in the next number being 1. Now, I will continue with the process by calling `next_number` on x=1.\n",
      "INFO (llm_agents_fs.TaskHandler) :      ⚙️ Processing Step: The tool call resulted in the next number being 1. Now, I will continue with the process by calling `next_number` on x=1.\n",
      "INFO (llm_agents_fs.TaskHandler) :      No new step required.\n",
      "INFO (llm_agents_fs.LLMAgent) :      🏁 Task completed: [7, 22]\n",
      "INFO (llm_agents_fs.TaskHandler) :      🛠️ Executing Tool Call: next_number\n",
      "INFO (llm_agents_fs.TaskHandler) :      ✅ Successful Tool Call: 17\n",
      "INFO (llm_agents_fs.TaskHandler) :      🛠️ Executing Tool Call: next_number\n",
      "INFO (llm_agents_fs.TaskHandler) :      ✅ Successful Tool Call: 5\n",
      "INFO (llm_agents_fs.TaskHandler) :      🧠 New Step: The current response indicates that the `next_number` tool was called with x=4 and received a result of 2. Now, I need to make another cal...[TRUNCATED]\n",
      "INFO (llm_agents_fs.TaskHandler) :      ⚙️ Processing Step: The current response indicates that the `next_number` tool was called with x=4 and received a result of 2. Now, I need to make ano...[TRUNCATED]\n",
      "INFO (llm_agents_fs.TaskHandler) :      🛠️ Executing Tool Call: next_number\n",
      "INFO (llm_agents_fs.TaskHandler) :      ✅ Successful Tool Call: 4\n",
      "INFO (llm_agents_fs.TaskHandler) :      ✅ Step Result: The next number in the sequence after 10 is 5. I will make another call to `next_number` with x = 5.\n",
      "\n",
      "<tool_call>\n",
      "{\"name\": \"next_number...[TRUNCATED]\n",
      "INFO (llm_agents_fs.TaskHandler) :      ✅ Step Result: Now, the current number is 34. The next number in the sequence is 17.\n",
      "\n",
      "I will now CALL `next_number` on the current number x (which is ...[TRUNCATED]\n",
      "INFO (llm_agents_fs.TaskHandler) :      🛠️ Executing Tool Call: next_number\n",
      "INFO (llm_agents_fs.TaskHandler) :      ✅ Successful Tool Call: 1\n",
      "INFO (llm_agents_fs.TaskHandler) :      🧠 New Step: CALL next_number on the current number 5.\n",
      "INFO (llm_agents_fs.TaskHandler) :      ⚙️ Processing Step: CALL next_number on the current number 5.\n",
      "INFO (llm_agents_fs.TaskHandler) :      ✅ Step Result: The next number after x=1 is 4. I will now call `next_number` on the current number, which is 4.\n",
      "\n",
      "I need to make the following tool cal...[TRUNCATED]\n",
      "INFO (llm_agents_fs.TaskHandler) :      🧠 New Step: CALL `next_number` on the current number x (which is now 17).\n",
      "INFO (llm_agents_fs.TaskHandler) :      ⚙️ Processing Step: CALL `next_number` on the current number x (which is now 17).\n",
      "INFO (llm_agents_fs.TaskHandler) :      🛠️ Executing Tool Call: next_number\n",
      "INFO (llm_agents_fs.TaskHandler) :      ✅ Successful Tool Call: 16\n",
      "INFO (llm_agents_fs.TaskHandler) :      🧠 New Step: \n",
      "\n",
      "INFO (llm_agents_fs.TaskHandler) :      ⚙️ Processing Step: \n",
      "\n",
      "INFO (llm_agents_fs.TaskHandler) :      🛠️ Executing Tool Call: next_number\n",
      "INFO (llm_agents_fs.TaskHandler) :      ✅ Successful Tool Call: 52\n",
      "INFO (llm_agents_fs.TaskHandler) :      ✅ Step Result: The `next_number` tool has been called with x set to 2, and the result is 1. \n",
      "\n",
      "We have reached the end of our sequence where x=1.\n",
      "\n",
      "Now,...[TRUNCATED]\n",
      "INFO (llm_agents_fs.TaskHandler) :      ✅ Step Result: The next number in the sequence after 5 is 16. I will now make a call to `next_number` with x = 16.\n",
      "\n",
      "<tool_call>\n",
      "{\"name\": \"next_number\"...[TRUNCATED]\n",
      "INFO (llm_agents_fs.TaskHandler) :      🛠️ Executing Tool Call: next_number\n",
      "INFO (llm_agents_fs.TaskHandler) :      ✅ Successful Tool Call: 2\n",
      "INFO (llm_agents_fs.TaskHandler) :      No new step required.\n",
      "INFO (llm_agents_fs.LLMAgent) :      🏁 Task completed: 4 → 2 → 1\n",
      "INFO (llm_agents_fs.TaskHandler) :      ✅ Step Result: The current number is now 17, and the next number in the sequence is 52. \n",
      "\n",
      "I will now CALL `next_number` on the current number x (which...[TRUNCATED]\n",
      "INFO (llm_agents_fs.TaskHandler) :      🧠 New Step: The next number in the sequence after 16 is still unknown, but I will make a call to `next_number` with x = 16 as instructed.\n",
      "INFO (llm_agents_fs.TaskHandler) :      ⚙️ Processing Step: The next number in the sequence after 16 is still unknown, but I will make a call to `next_number` with x = 16 as instructed.\n",
      "INFO (llm_agents_fs.TaskHandler) :      🧠 New Step: { \"tool_name\": \"next_number\", \"arguments\": {\"x\": 52}\n",
      "INFO (llm_agents_fs.TaskHandler) :      ⚙️ Processing Step: { \"tool_name\": \"next_number\", \"arguments\": {\"x\": 52}\n",
      "INFO (llm_agents_fs.TaskHandler) :      ✅ Step Result: The next number after x=4 is 2. I will now call `next_number` on the current number, which is 2.\n",
      "\n",
      "I need to make the following tool cal...[TRUNCATED]\n",
      "INFO (llm_agents_fs.TaskHandler) :      🛠️ Executing Tool Call: next_number\n",
      "INFO (llm_agents_fs.TaskHandler) :      ✅ Successful Tool Call: 8\n",
      "INFO (llm_agents_fs.TaskHandler) :      🛠️ Executing Tool Call: next_number\n",
      "INFO (llm_agents_fs.TaskHandler) :      ✅ Successful Tool Call: 26\n",
      "INFO (llm_agents_fs.TaskHandler) :      ✅ Step Result: The next number in the sequence after 16 is 8. \n",
      "\n",
      "I will now make a call to `next_number` with x = 8.\n",
      "\n",
      "<tool_call>\n",
      "{\"name\": \"next_number...[TRUNCATED]\n",
      "INFO (llm_agents_fs.TaskHandler) :      🧠 New Step: The current response is not sufficient to answer the original task instruction. The assistant has made a tool call but did not include the...[TRUNCATED]\n",
      "INFO (llm_agents_fs.TaskHandler) :      ⚙️ Processing Step: The current response is not sufficient to answer the original task instruction. The assistant has made a tool call but did not inc...[TRUNCATED]\n",
      "INFO (llm_agents_fs.TaskHandler) :      ✅ Step Result: The current number is now 52, and the next number in the sequence is 26. \n",
      "\n",
      "I will now CALL `next_number` on the current number x (which...[TRUNCATED]\n",
      "INFO (llm_agents_fs.TaskHandler) :      🧠 New Step: The next number in the sequence after 16 is still unknown, but I will make a call to `next_number` with x = 16 as instructed. I need to ma...[TRUNCATED]\n",
      "INFO (llm_agents_fs.TaskHandler) :      ⚙️ Processing Step: The next number in the sequence after 16 is still unknown, but I will make a call to `next_number` with x = 16 as instructed. I ne...[TRUNCATED]\n",
      "INFO (llm_agents_fs.TaskHandler) :      🧠 New Step: { \"tool_name\": \"next_number\", \"arguments\": {\"x\":26}}\n",
      "INFO (llm_agents_fs.TaskHandler) :      ⚙️ Processing Step: { \"tool_name\": \"next_number\", \"arguments\": {\"x\":26}}\n",
      "INFO (llm_agents_fs.TaskHandler) :      🛠️ Executing Tool Call: next_number\n",
      "INFO (llm_agents_fs.TaskHandler) :      ✅ Successful Tool Call: 8\n",
      "INFO (llm_agents_fs.TaskHandler) :      🛠️ Executing Tool Call: next_number\n",
      "INFO (llm_agents_fs.TaskHandler) :      ✅ Successful Tool Call: 13\n",
      "INFO (llm_agents_fs.TaskHandler) :      🛠️ Executing Tool Call: next_number\n",
      "INFO (llm_agents_fs.TaskHandler) :      ✅ Successful Tool Call: 1\n",
      "INFO (llm_agents_fs.TaskHandler) :      🛠️ Executing Tool Call: next_number\n",
      "INFO (llm_agents_fs.TaskHandler) :      ✅ Successful Tool Call: 1\n",
      "INFO (llm_agents_fs.TaskHandler) :      ✅ Step Result: The next number in the sequence after 16 is 8. Now, I will make a call to `next_number` with x = 8.\n",
      "\n",
      "<tool_call>\n",
      "{\"name\": \"next_number\"...[TRUNCATED]\n",
      "INFO (llm_agents_fs.TaskHandler) :      ✅ Step Result: The current number is now 26, and the next number in the sequence is 13. \n",
      "\n",
      "I will now CALL `next_number` on the current number x (which...[TRUNCATED]\n",
      "INFO (llm_agents_fs.TaskHandler) :      🧠 New Step: { \"tool_name\": \"next_number\", \"arguments\": {\"x\": 8} }\n",
      "INFO (llm_agents_fs.TaskHandler) :      ⚙️ Processing Step: { \"tool_name\": \"next_number\", \"arguments\": {\"x\": 8} }\n",
      "INFO (llm_agents_fs.TaskHandler) :      🧠 New Step: The current number is now 26, and the next number in the sequence is 13. I will now CALL `next_number` on the current number x (which is n...[TRUNCATED]\n",
      "INFO (llm_agents_fs.TaskHandler) :      ⚙️ Processing Step: The current number is now 26, and the next number in the sequence is 13. I will now CALL `next_number` on the current number x (wh...[TRUNCATED]\n",
      "INFO (llm_agents_fs.TaskHandler) :      🛠️ Executing Tool Call: next_number\n",
      "INFO (llm_agents_fs.TaskHandler) :      ✅ Successful Tool Call: 4\n",
      "INFO (llm_agents_fs.TaskHandler) :      🛠️ Executing Tool Call: next_number\n",
      "INFO (llm_agents_fs.TaskHandler) :      ✅ Successful Tool Call: 40\n",
      "INFO (llm_agents_fs.TaskHandler) :      ✅ Step Result: Now that I have the result from calling `next_number` with x=2, which is 1, I can stop and provide the complete sequence of numbers gen...[TRUNCATED]\n",
      "INFO (llm_agents_fs.TaskHandler) :      ✅ Step Result: The next number in the sequence after 8 is 4. \n",
      "\n",
      "Now, I will make a call to `next_number` with x = 4.\n",
      "\n",
      "<tool_call>\n",
      "{\"name\": \"next_number...[TRUNCATED]\n",
      "INFO (llm_agents_fs.TaskHandler) :      No new step required.\n",
      "INFO (llm_agents_fs.LLMAgent) :      🏁 Task completed: [2, 4, 2, 1]\n",
      "INFO (llm_agents_fs.TaskHandler) :      ✅ Step Result: The current number is now 13, and the next number in the sequence is 40. \n",
      "\n",
      "I will now CALL `next_number` on the current number x (which...[TRUNCATED]\n",
      "INFO (llm_agents_fs.TaskHandler) :      🧠 New Step: { \"tool_name\": \"next_number\", \"arguments\": {\"x\": 4} }\n",
      "INFO (llm_agents_fs.TaskHandler) :      ⚙️ Processing Step: { \"tool_name\": \"next_number\", \"arguments\": {\"x\": 4} }\n",
      "INFO (llm_agents_fs.TaskHandler) :      🛠️ Executing Tool Call: next_number\n",
      "INFO (llm_agents_fs.TaskHandler) :      ✅ Successful Tool Call: 2\n",
      "INFO (llm_agents_fs.TaskHandler) :      🧠 New Step: The current number is now 13, and the next number in the sequence is 40. I will now CALL `next_number` on the current number x (which is n...[TRUNCATED]\n",
      "INFO (llm_agents_fs.TaskHandler) :      ⚙️ Processing Step: The current number is now 13, and the next number in the sequence is 40. I will now CALL `next_number` on the current number x (wh...[TRUNCATED]\n",
      "INFO (llm_agents_fs.TaskHandler) :      🛠️ Executing Tool Call: next_number\n",
      "INFO (llm_agents_fs.TaskHandler) :      ✅ Successful Tool Call: 20\n",
      "INFO (llm_agents_fs.TaskHandler) :      ✅ Step Result: The next number in the sequence after 4 is 2. Now, I will make a call to `next_number` with x = 2.\n",
      "\n",
      "<tool_call>\n",
      "{\"name\": \"next_number\",...[TRUNCATED]\n",
      "INFO (llm_agents_fs.TaskHandler) :      🧠 New Step: { \"tool_name\": \"next_number\", \"arguments\": {\"x\": 2}}\n",
      "INFO (llm_agents_fs.TaskHandler) :      ⚙️ Processing Step: { \"tool_name\": \"next_number\", \"arguments\": {\"x\": 2}}\n",
      "INFO (llm_agents_fs.TaskHandler) :      🛠️ Executing Tool Call: next_number\n",
      "INFO (llm_agents_fs.TaskHandler) :      ✅ Successful Tool Call: 1\n",
      "INFO (llm_agents_fs.TaskHandler) :      ✅ Step Result: The current number is now 40, and the next number in the sequence is 20. \n",
      "\n",
      "I will continue this process until I reach the number 1. Her...[TRUNCATED]\n",
      "INFO (llm_agents_fs.TaskHandler) :      🧠 New Step: CALL `next_number` on the current number x (which is now 20).\n",
      "INFO (llm_agents_fs.TaskHandler) :      ⚙️ Processing Step: CALL `next_number` on the current number x (which is now 20).\n",
      "INFO (llm_agents_fs.TaskHandler) :      🛠️ Executing Tool Call: next_number\n",
      "INFO (llm_agents_fs.TaskHandler) :      ✅ Successful Tool Call: 10\n",
      "INFO (llm_agents_fs.TaskHandler) :      ✅ Step Result: The next number in the sequence after 2 is 1. Now, I will make a call to `next_number` with x = 1.\n",
      "\n",
      "<tool_call>\n",
      "{\"name\": \"next_number\",...[TRUNCATED]\n",
      "INFO (llm_agents_fs.TaskHandler) :      ✅ Step Result: The current number is now 20, and the next number in the sequence is 10. \n",
      "\n",
      "Next tool call:\n",
      "{\n",
      "    \"tool_name\": \"next_number\",\n",
      "    \"argum...[TRUNCATED]\n",
      "INFO (llm_agents_fs.TaskHandler) :      🧠 New Step: The current response does not fully follow the instructions. The assistant has identified that the next number after 2 is 1 and provides t...[TRUNCATED]\n",
      "INFO (llm_agents_fs.TaskHandler) :      ⚙️ Processing Step: The current response does not fully follow the instructions. The assistant has identified that the next number after 2 is 1 and pr...[TRUNCATED]\n",
      "INFO (llm_agents_fs.TaskHandler) :      🧠 New Step: \n",
      "Next tool call:\n",
      "{\n",
      "    \"tool_name\": \"next_number\",\n",
      "    \"arguments\": {\n",
      "        \"x\": 10\n",
      "    }\n",
      "}\n",
      "INFO (llm_agents_fs.TaskHandler) :      ⚙️ Processing Step: \n",
      "Next tool call:\n",
      "{\n",
      "    \"tool_name\": \"next_number\",\n",
      "    \"arguments\": {\n",
      "        \"x\": 10\n",
      "    }\n",
      "}\n",
      "INFO (llm_agents_fs.TaskHandler) :      🛠️ Executing Tool Call: next_number\n",
      "INFO (llm_agents_fs.TaskHandler) :      ✅ Successful Tool Call: 5\n",
      "INFO (llm_agents_fs.TaskHandler) :      ✅ Step Result: The current number is now 10, and the next number in the sequence is 5.\n",
      "\n",
      "Next tool call:\n",
      "{\n",
      "    \"tool_name\": \"next_number\",\n",
      "    \"argumen...[TRUNCATED]\n",
      "INFO (llm_agents_fs.TaskHandler) :      🛠️ Executing Tool Call: next_number\n",
      "INFO (llm_agents_fs.TaskHandler) :      ✅ Successful Tool Call: 10\n",
      "INFO (llm_agents_fs.TaskHandler) :      🧠 New Step: I will now CALL `next_number` on the current number x (which is now 5). The tool call details are as follows: { \"tool_name\": \"next_number\"...[TRUNCATED]\n",
      "INFO (llm_agents_fs.TaskHandler) :      ⚙️ Processing Step: I will now CALL `next_number` on the current number x (which is now 5). The tool call details are as follows: { \"tool_name\": \"next...[TRUNCATED]\n",
      "INFO (llm_agents_fs.TaskHandler) :      🛠️ Executing Tool Call: next_number\n",
      "INFO (llm_agents_fs.TaskHandler) :      ✅ Successful Tool Call: 16\n",
      "INFO (llm_agents_fs.TaskHandler) :      ✅ Step Result: The next number after \\( x = 3 \\) is 10. Let's call `next_number` with the new value of \\( x = 10 \\).\n",
      "\n",
      "I will now make a call to `next_...[TRUNCATED]\n",
      "INFO (llm_agents_fs.TaskHandler) :      🧠 New Step: { \n",
      "INFO (llm_agents_fs.TaskHandler) :      ⚙️ Processing Step: { \n",
      "INFO (llm_agents_fs.TaskHandler) :      ✅ Step Result: The current number is now 5, and the next number in the sequence is 16. \n",
      "\n",
      "Next tool call: \n",
      "{\n",
      "    \"tool_name\": \"next_number\",\n",
      "    \"argum...[TRUNCATED]\n",
      "INFO (llm_agents_fs.TaskHandler) :      🧠 New Step: CALL `next_number` on the current number x (which is now 16). Please wait for the result.\n",
      "INFO (llm_agents_fs.TaskHandler) :      ⚙️ Processing Step: CALL `next_number` on the current number x (which is now 16). Please wait for the result.\n",
      "INFO (llm_agents_fs.TaskHandler) :      🛠️ Executing Tool Call: next_number\n",
      "INFO (llm_agents_fs.TaskHandler) :      ✅ Successful Tool Call: 8\n",
      "INFO (llm_agents_fs.TaskHandler) :      ✅ Step Result: The current number is now 16, and the next number in the sequence is 8. \n",
      "\n",
      "Next tool call: \n",
      "{\n",
      "    \"tool_name\": \"next_number\",\n",
      "    \"argum...[TRUNCATED]\n",
      "INFO (llm_agents_fs.TaskHandler) :      🧠 New Step: Next tool call:\n",
      "{\n",
      "\t\"tool_name\": \"next_number\",\n",
      "\t\"arguments\": {\n",
      "\t\t\"x\": 8\n",
      "\t}\n",
      "}\n",
      "INFO (llm_agents_fs.TaskHandler) :      ⚙️ Processing Step: Next tool call:\n",
      "{\n",
      "\t\"tool_name\": \"next_number\",\n",
      "\t\"arguments\": {\n",
      "\t\t\"x\": 8\n",
      "\t}\n",
      "}\n",
      "INFO (llm_agents_fs.TaskHandler) :      🛠️ Executing Tool Call: next_number\n",
      "INFO (llm_agents_fs.TaskHandler) :      ✅ Successful Tool Call: 4\n",
      "INFO (llm_agents_fs.TaskHandler) :      🛠️ Executing Tool Call: next_number\n",
      "INFO (llm_agents_fs.TaskHandler) :      ✅ Successful Tool Call: 5\n",
      "INFO (llm_agents_fs.TaskHandler) :      🛠️ Executing Tool Call: next_number\n",
      "INFO (llm_agents_fs.TaskHandler) :      ✅ Successful Tool Call: 5\n",
      "INFO (llm_agents_fs.TaskHandler) :      🛠️ Executing Tool Call: next_number\n",
      "INFO (llm_agents_fs.TaskHandler) :      ✅ Successful Tool Call: 5\n",
      "INFO (llm_agents_fs.TaskHandler) :      ✅ Step Result: Next tool call: \n",
      "{\n",
      "\t\"tool_name\": \"next_number\",\n",
      "\t\"arguments\": {\n",
      "\t\t\"x\": 4\n",
      "\t}\n",
      "}\n",
      "\n",
      "Current sequence so far: [5, 16, 8, 4]\n",
      "INFO (llm_agents_fs.TaskHandler) :      🧠 New Step: \n",
      "Next tool call:\n",
      "{\n",
      "    \"tool_name\": \"next_number\",\n",
      "    \"arguments\": {\n",
      "        \"x\": 4\n",
      "    }\n",
      "}\n",
      "INFO (llm_agents_fs.TaskHandler) :      ⚙️ Processing Step: \n",
      "Next tool call:\n",
      "{\n",
      "    \"tool_name\": \"next_number\",\n",
      "    \"arguments\": {\n",
      "        \"x\": 4\n",
      "    }\n",
      "}\n",
      "INFO (llm_agents_fs.TaskHandler) :      ✅ Step Result: It seems like we are stuck in an infinite loop with the number 10. The `next_number` function is returning '5' each time, which doesn't...[TRUNCATED]\n",
      "INFO (llm_agents_fs.TaskHandler) :      🛠️ Executing Tool Call: next_number\n",
      "INFO (llm_agents_fs.TaskHandler) :      ✅ Successful Tool Call: 2\n",
      "INFO (llm_agents_fs.TaskHandler) :      🧠 New Step: { \n",
      "INFO (llm_agents_fs.TaskHandler) :      ⚙️ Processing Step: { \n",
      "INFO (llm_agents_fs.TaskHandler) :      ✅ Step Result: The next tool call resulted in the content `2`. \n",
      "\n",
      "Next tool call: \n",
      "{\n",
      "\t\"tool_name\": \"next_number\",\n",
      "\t\"arguments\": {\n",
      "\t\t\"x\": 2\n",
      "\t}\n",
      "}\n",
      "\n",
      "Curren...[TRUNCATED]\n",
      "INFO (llm_agents_fs.TaskHandler) :      🛠️ Executing Tool Call: next_number\n",
      "INFO (llm_agents_fs.TaskHandler) :      ✅ Successful Tool Call: 16\n",
      "INFO (llm_agents_fs.TaskHandler) :      🧠 New Step: The assistant's current response is not sufficient to answer the original task instruction. The assistant has provided the sequence so far...[TRUNCATED]\n",
      "INFO (llm_agents_fs.TaskHandler) :      ⚙️ Processing Step: The assistant's current response is not sufficient to answer the original task instruction. The assistant has provided the sequenc...[TRUNCATED]\n",
      "INFO (llm_agents_fs.TaskHandler) :      ✅ Step Result: The sequence continues as follows: \n",
      "\n",
      "- From \\( x = 3 \\) to \\( x = 10 \\)\n",
      "- From \\( x = 10 \\) to \\( x = 5 \\)\n",
      "- From \\( x = 5 \\) to \\( x =...[TRUNCATED]\n",
      "INFO (llm_agents_fs.TaskHandler) :      🧠 New Step: I need to make the following tool call(s): { \n",
      "INFO (llm_agents_fs.TaskHandler) :      ⚙️ Processing Step: I need to make the following tool call(s): { \n",
      "INFO (llm_agents_fs.TaskHandler) :      🛠️ Executing Tool Call: next_number\n",
      "INFO (llm_agents_fs.TaskHandler) :      ✅ Successful Tool Call: 8\n",
      "INFO (llm_agents_fs.TaskHandler) :      🛠️ Executing Tool Call: next_number\n",
      "INFO (llm_agents_fs.TaskHandler) :      ✅ Successful Tool Call: 1\n",
      "INFO (llm_agents_fs.TaskHandler) :      ✅ Step Result: The sequence continues as follows:\n",
      "\n",
      "- From \\( x = 3 \\) to \\( x = 10 \\)\n",
      "- From \\( x = 10 \\) to \\( x = 5 \\)\n",
      "- From \\( x = 5 \\) to \\( x = ...[TRUNCATED]\n",
      "INFO (llm_agents_fs.TaskHandler) :      🧠 New Step: { \n",
      "INFO (llm_agents_fs.TaskHandler) :      ⚙️ Processing Step: { \n",
      "INFO (llm_agents_fs.TaskHandler) :      🛠️ Executing Tool Call: next_number\n",
      "INFO (llm_agents_fs.TaskHandler) :      ✅ Successful Tool Call: 4\n",
      "INFO (llm_agents_fs.TaskHandler) :      ✅ Step Result: The sequence continues as follows:\n",
      "\n",
      "- From \\( x = 3 \\) to \\( x = 10 \\)\n",
      "- From \\( x = 10 \\) to \\( x = 5 \\)\n",
      "- From \\( x = 5 \\) to \\( x = ...[TRUNCATED]\n",
      "INFO (llm_agents_fs.TaskHandler) :      🧠 New Step: I need to make the following tool call(s): { \n",
      "INFO (llm_agents_fs.TaskHandler) :      ⚙️ Processing Step: I need to make the following tool call(s): { \n",
      "INFO (llm_agents_fs.TaskHandler) :      ✅ Step Result: The `next_number` tool call with \\( x = 2 \\) resulted in the number 1. Now, I can include this result to extend our sequence:\n",
      "\n",
      "- Starti...[TRUNCATED]\n",
      "INFO (llm_agents_fs.TaskHandler) :      🛠️ Executing Tool Call: next_number\n",
      "INFO (llm_agents_fs.TaskHandler) :      ✅ Successful Tool Call: 2\n",
      "INFO (llm_agents_fs.TaskHandler) :      No new step required.\n",
      "INFO (llm_agents_fs.LLMAgent) :      🏁 Task completed: [11, 34, 17, 52, 26, 13, 40, 20, 10, 5, 16, 8, 4, 2, 1]\n",
      "INFO (llm_agents_fs.TaskHandler) :      ✅ Step Result: The sequence continues as follows:\n",
      "\n",
      "- From \\( x = 3 \\) to \\( x = 10 \\)\n",
      "- From \\( x = 10 \\) to \\( x = 5 \\)\n",
      "- From \\( x = 5 \\) to \\( x = ...[TRUNCATED]\n",
      "INFO (llm_agents_fs.TaskHandler) :      🧠 New Step: I need to make the following tool call(s): { 'tool_name': 'next_number', 'arguments': {'x': 2} }.\n",
      "INFO (llm_agents_fs.TaskHandler) :      ⚙️ Processing Step: I need to make the following tool call(s): { 'tool_name': 'next_number', 'arguments': {'x': 2} }.\n",
      "INFO (llm_agents_fs.TaskHandler) :      🛠️ Executing Tool Call: next_number\n",
      "INFO (llm_agents_fs.TaskHandler) :      ✅ Successful Tool Call: 1\n",
      "INFO (llm_agents_fs.TaskHandler) :      ✅ Step Result: The sequence continues as follows:\n",
      "\n",
      "- From \\( x = 3 \\) to \\( x = 10 \\)\n",
      "- From \\( x = 10 \\) to \\( x = 5 \\)\n",
      "- From \\( x = 5 \\) to \\( x = ...[TRUNCATED]\n",
      "INFO (llm_agents_fs.TaskHandler) :      🧠 New Step: { \n",
      "INFO (llm_agents_fs.TaskHandler) :      ⚙️ Processing Step: { \n",
      "INFO (llm_agents_fs.TaskHandler) :      ✅ Step Result: Based on the previous dialogue, it looks like we have been generating a sequence using the `next_number` tool. The latest sequence we o...[TRUNCATED]\n",
      "INFO (llm_agents_fs.TaskHandler) :      🧠 New Step: Generate the final call to `next_number` with `x=1`.\n",
      "INFO (llm_agents_fs.TaskHandler) :      ⚙️ Processing Step: Generate the final call to `next_number` with `x=1`.\n",
      "INFO (llm_agents_fs.TaskHandler) :      🛠️ Executing Tool Call: next_number\n",
      "INFO (llm_agents_fs.TaskHandler) :      ✅ Successful Tool Call: 4\n",
      "INFO (llm_agents_fs.TaskHandler) :      ✅ Step Result: The sequence generated by the `next_number` tool with \\( x = 1 \\) is as follows:\n",
      "\n",
      "3 → 10 → 5 → 16 → 8 → 4 → 2 → 1\n",
      "\n",
      "Now, from \\( x = 1 \\...[TRUNCATED]\n",
      "INFO (llm_agents_fs.TaskHandler) :      🧠 New Step: The sequence generated by the `next_number` tool with x=1 is as follows: 3 → 10 → 5 → 16 → 8 → 4 → 2 → 1. Therefore, the complete and fina...[TRUNCATED]\n",
      "INFO (llm_agents_fs.TaskHandler) :      ⚙️ Processing Step: The sequence generated by the `next_number` tool with x=1 is as follows: 3 → 10 → 5 → 16 → 8 → 4 → 2 → 1. Therefore, the complete ...[TRUNCATED]\n",
      "INFO (llm_agents_fs.TaskHandler) :      ✅ Step Result: Based on the information provided, it seems you're describing a specific sequence that terminates at 1 after passing through the number...[TRUNCATED]\n",
      "INFO (llm_agents_fs.TaskHandler) :      No new step required.\n",
      "INFO (llm_agents_fs.LLMAgent) :      🏁 Task completed: \n",
      "3 → 10 → 5 → 16 → 8 → 4 → 2 → 1\n",
      "\n"
     ]
    }
   ],
   "source": [
    "handlers = []\n",
    "for ex in benchmark:\n",
    "    h = llm_agent.run(\n",
    "        Task(\n",
    "            instruction=instruction_template.format(x=ex.number),\n",
    "            max_steps=20,\n",
    "        ),\n",
    "    )\n",
    "    handlers.append(h)"
   ]
  },
  {
   "cell_type": "code",
   "execution_count": 62,
   "id": "46def559-27e2-432a-acae-ba66fc6a7f1c",
   "metadata": {},
   "outputs": [
    {
     "data": {
      "text/plain": [
       "[True, True, True, True, True]"
      ]
     },
     "execution_count": 62,
     "metadata": {},
     "output_type": "execute_result"
    }
   ],
   "source": [
    "[h.done() for h in handlers]"
   ]
  },
  {
   "cell_type": "code",
   "execution_count": 64,
   "id": "a5525a24-88e2-458c-bbc0-29791573dedb",
   "metadata": {},
   "outputs": [
    {
     "data": {
      "text/plain": [
       "[TaskResult(task_id='6225e86d-837f-43a3-b58a-753e4f78f975', content='[11, 34, 17, 52, 26, 13, 40, 20, 10, 5, 16, 8, 4, 2, 1]'),\n",
       " TaskResult(task_id='4d505a87-274e-4195-b346-dc3c55f51854', content='[7, 22]'),\n",
       " TaskResult(task_id='e7a2186c-a6bd-4be4-bb11-cd1e9ff18792', content='4 → 2 → 1'),\n",
       " TaskResult(task_id='73215131-4645-49e0-ae68-9b3dd265cf5c', content='\\n3 → 10 → 5 → 16 → 8 → 4 → 2 → 1\\n'),\n",
       " TaskResult(task_id='4a878b13-b074-40b7-9a55-6b9e356bca0a', content='[2, 4, 2, 1]')]"
      ]
     },
     "execution_count": 64,
     "metadata": {},
     "output_type": "execute_result"
    }
   ],
   "source": [
    "[h.result() for h in handlers]"
   ]
  },
  {
   "cell_type": "markdown",
   "id": "cb90938b-d731-4e3c-a2fb-4dea60911a1b",
   "metadata": {},
   "source": [
    "### Setup Judge LLM"
   ]
  },
  {
   "cell_type": "code",
   "execution_count": 65,
   "id": "cb6aa49b-98bc-4b57-8830-71e4969cf504",
   "metadata": {},
   "outputs": [],
   "source": [
    "judge_prompt_template = \"\"\"You are an evaluation assistant. Given a number and its correct\n",
    "sequence, use them to assess whether another assistants final result contains the correct sequence.\n",
    "\n",
    "<number>\n",
    "{number}\n",
    "</number>\n",
    "\n",
    "<sequence>\n",
    "{sequence}\n",
    "</sequence>\n",
    "\n",
    "<result>\n",
    "{result}\n",
    "</result>\n",
    "\"\"\""
   ]
  },
  {
   "cell_type": "markdown",
   "id": "8bbccc2e-e91f-4980-92a9-84d4848a83ae",
   "metadata": {},
   "source": [
    "#### Structured outputs for final result correctness evaluation"
   ]
  },
  {
   "cell_type": "code",
   "execution_count": 66,
   "id": "e2a4c814-100b-481f-9530-06b74a551bd2",
   "metadata": {},
   "outputs": [],
   "source": [
    "from pydantic import Field\n",
    "\n",
    "\n",
    "class ExampleResultEvaluation(BaseModel):\n",
    "    \"\"\"Evaluation of result.\"\"\"\n",
    "\n",
    "    correct: bool = Field(\n",
    "        description=\"True if the assistant's final result contains the correct sequence. False otherwise.\",\n",
    "    )"
   ]
  },
  {
   "cell_type": "code",
   "execution_count": 73,
   "id": "b5846d32-a876-4df6-be7b-9db8959288f3",
   "metadata": {},
   "outputs": [
    {
     "data": {
      "text/plain": [
       "[ExampleResultEvaluation(correct=True),\n",
       " ExampleResultEvaluation(correct=False),\n",
       " ExampleResultEvaluation(correct=True),\n",
       " ExampleResultEvaluation(correct=False),\n",
       " ExampleResultEvaluation(correct=False)]"
      ]
     },
     "execution_count": 73,
     "metadata": {},
     "output_type": "execute_result"
    }
   ],
   "source": [
    "import asyncio\n",
    "\n",
    "eval_async_tasks = []\n",
    "for ex, handler in zip(benchmark, handlers, strict=False):\n",
    "    async_task = llm.structured_output(\n",
    "        prompt=judge_prompt_template.format(\n",
    "            number=ex.number,\n",
    "            sequence=ex.sequence,\n",
    "            result=str(handler.result()),\n",
    "        ),\n",
    "        mdl=ExampleResultEvaluation,\n",
    "    )\n",
    "    eval_async_tasks.append(async_task)\n",
    "\n",
    "result_evals = await asyncio.gather(*eval_async_tasks)\n",
    "result_evals"
   ]
  },
  {
   "cell_type": "markdown",
   "id": "84998e96-8356-4559-a6ad-44f4bb6001cd",
   "metadata": {},
   "source": [
    "#### Extra steps evaluation"
   ]
  },
  {
   "cell_type": "code",
   "execution_count": 74,
   "id": "8e1aaef3-940c-494d-adec-9a8083a69b62",
   "metadata": {},
   "outputs": [
    {
     "data": {
      "text/plain": [
       "[0, 1, 0, 11, 3]"
      ]
     },
     "execution_count": 74,
     "metadata": {},
     "output_type": "execute_result"
    }
   ],
   "source": [
    "extra_steps = [\n",
    "    abs(h.step_counter - ex.min_steps)\n",
    "    for h, ex in zip(handlers, benchmark, strict=False)\n",
    "]\n",
    "extra_steps"
   ]
  },
  {
   "cell_type": "markdown",
   "id": "b7795ff7-a3c4-44cd-8767-52340e1bb9fd",
   "metadata": {},
   "source": [
    "### Create Eval summary report"
   ]
  },
  {
   "cell_type": "code",
   "execution_count": 80,
   "id": "cd61843d-c142-426a-b354-b81b5ba08b64",
   "metadata": {},
   "outputs": [],
   "source": [
    "!uv pip install pandas tabulate -q"
   ]
  },
  {
   "cell_type": "code",
   "execution_count": 81,
   "id": "4e4b6188-724b-49a2-b13b-f3cde43e5814",
   "metadata": {},
   "outputs": [],
   "source": [
    "import pandas as pd"
   ]
  },
  {
   "cell_type": "code",
   "execution_count": 95,
   "id": "2fb6f547-ea9d-4330-ae70-4e28e90eed9a",
   "metadata": {},
   "outputs": [
    {
     "name": "stdout",
     "output_type": "stream",
     "text": [
      "|         |   result_correctness |   number_extra_steps |\n",
      "|:--------|---------------------:|---------------------:|\n",
      "| 0       |                  1   |                    0 |\n",
      "| 1       |                  0   |                    1 |\n",
      "| 2       |                  1   |                    0 |\n",
      "| 3       |                  0   |                   11 |\n",
      "| 4       |                  0   |                    3 |\n",
      "| Average |                  0.4 |                    3 |\n"
     ]
    }
   ],
   "source": [
    "report = pd.DataFrame(\n",
    "    data={\n",
    "        \"result_correctness\": [int(el.correct) for el in result_evals],\n",
    "        \"number_extra_steps\": extra_steps,\n",
    "    },\n",
    ")\n",
    "report.loc[\"Average\"] = report.mean().round(2)\n",
    "print(report.to_markdown())"
   ]
  }
 ],
 "metadata": {
  "kernelspec": {
   "display_name": "Python 3 (ipykernel)",
   "language": "python",
   "name": "python3"
  },
  "language_info": {
   "codemirror_mode": {
    "name": "ipython",
    "version": 3
   },
   "file_extension": ".py",
   "mimetype": "text/x-python",
   "name": "python",
   "nbconvert_exporter": "python",
   "pygments_lexer": "ipython3",
   "version": "3.13.5"
  }
 },
 "nbformat": 4,
 "nbformat_minor": 5
}
