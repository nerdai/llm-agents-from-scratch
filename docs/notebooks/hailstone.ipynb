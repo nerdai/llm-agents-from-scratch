{
 "cells": [
  {
   "cell_type": "markdown",
   "id": "915de20c-9761-4652-8cb2-a81dae481bae",
   "metadata": {},
   "source": [
    "# Our First LLMAgent — Hailstone"
   ]
  },
  {
   "cell_type": "code",
   "execution_count": 1,
   "id": "906130e6-89a0-4201-979d-0c8cd1e35abd",
   "metadata": {},
   "outputs": [],
   "source": [
    "LOGGING_ENABLED = True"
   ]
  },
  {
   "cell_type": "code",
   "execution_count": 2,
   "id": "4e298478-b49e-45cb-b508-d0feca82b55d",
   "metadata": {},
   "outputs": [],
   "source": [
    "import logging\n",
    "\n",
    "from llm_agents_from_scratch.logger import enable_console_logging\n",
    "\n",
    "if LOGGING_ENABLED:\n",
    "    enable_console_logging(logging.INFO)"
   ]
  },
  {
   "cell_type": "markdown",
   "id": "cfaeb6a0-7a78-48f7-983d-080eb8410083",
   "metadata": {},
   "source": [
    "## Define the Hailstone Tool"
   ]
  },
  {
   "cell_type": "code",
   "execution_count": 3,
   "id": "e0e34708-d805-4986-8615-6094a6f770b9",
   "metadata": {},
   "outputs": [],
   "source": [
    "from pydantic import BaseModel\n",
    "\n",
    "from llm_agents_from_scratch.tools import PydanticFunctionTool\n",
    "\n",
    "\n",
    "class AlgoParams(BaseModel):\n",
    "    \"\"\"Params for next_number.\"\"\"\n",
    "\n",
    "    x: int\n",
    "\n",
    "\n",
    "def next_number(params: AlgoParams) -> int:\n",
    "    \"\"\"Generate the next number of the sequence.\"\"\"\n",
    "    if params.x % 2 == 0:\n",
    "        return params.x // 2\n",
    "    return 3 * params.x + 1\n",
    "\n",
    "\n",
    "# convert our Python function to a BaseTool\n",
    "tool = PydanticFunctionTool(next_number)"
   ]
  },
  {
   "cell_type": "markdown",
   "id": "153d1f85-70d2-4ea5-a076-e83e01058c7d",
   "metadata": {},
   "source": [
    "## Define our backbone LLM"
   ]
  },
  {
   "cell_type": "code",
   "execution_count": 4,
   "id": "b5761c29-41d5-41a8-822f-e6acd3c321f5",
   "metadata": {},
   "outputs": [],
   "source": [
    "from llm_agents_from_scratch.llms import OllamaLLM"
   ]
  },
  {
   "cell_type": "code",
   "execution_count": 5,
   "id": "5b5110cf-8f0a-44fa-a3a1-6cf895ce1c46",
   "metadata": {},
   "outputs": [],
   "source": [
    "llm = OllamaLLM(model=\"qwen2.5:3b\")"
   ]
  },
  {
   "cell_type": "markdown",
   "id": "545c892a-1dad-44f5-904f-7b0ee367f8a5",
   "metadata": {},
   "source": [
    "## Define the LLMAgent"
   ]
  },
  {
   "cell_type": "code",
   "execution_count": 6,
   "id": "d6929e4f-fd56-4368-99db-d998b6bc4b20",
   "metadata": {},
   "outputs": [],
   "source": [
    "from llm_agents_from_scratch import LLMAgent"
   ]
  },
  {
   "cell_type": "code",
   "execution_count": 7,
   "id": "6ddaa118-5ea0-4455-949d-5505e23a50bc",
   "metadata": {},
   "outputs": [],
   "source": [
    "llm_agent = LLMAgent(\n",
    "    llm=llm,\n",
    "    tools=[tool],\n",
    ")"
   ]
  },
  {
   "cell_type": "markdown",
   "id": "e59458d1-7e51-4533-8e50-90f623c1e4e0",
   "metadata": {},
   "source": [
    "## Define the Hailstone Task"
   ]
  },
  {
   "cell_type": "code",
   "execution_count": 8,
   "id": "036ab66a-bf43-4186-9e2b-425c6adc0de2",
   "metadata": {},
   "outputs": [],
   "source": [
    "from llm_agents_from_scratch.data_structures import Task"
   ]
  },
  {
   "cell_type": "code",
   "execution_count": null,
   "id": "5cab3cb2-0fed-4562-a4a7-20ff46ec812b",
   "metadata": {},
   "outputs": [],
   "source": [
    "instruction_template = \"\"\"\n",
    "You are given a tool, `next_number`, that generates the next number in the\n",
    "sequence given the current number.\n",
    "\n",
    "Start with the number x={x}.\n",
    "\n",
    "<rules>\n",
    "CALL `next_number` on the current number x\n",
    "STOP AND WAIT for the result.\n",
    "REPEAT this step-by-step process until the number 1 is reached.\n",
    "FINAL RESULT: When you receive the number 1, provide the complete sequence you\n",
    "observed from start to finish (including the starting number x and ending number\n",
    "1).\n",
    "</rules>\n",
    "\n",
    "<warnings>\n",
    "NEVER fabricate or simulate tool call results\n",
    "NEVER make multiple tool calls in one response\n",
    "STOP and WAIT - ALWAYS wait for the actual tool response before deciding next\n",
    "steps\n",
    "</warnings>\n",
    "\"\"\".strip()"
   ]
  },
  {
   "cell_type": "code",
   "execution_count": 10,
   "id": "150dc832-9716-4bcd-857b-137a87810c25",
   "metadata": {},
   "outputs": [],
   "source": [
    "task = Task(\n",
    "    instruction=instruction_template.format(x=4),\n",
    ")"
   ]
  },
  {
   "cell_type": "code",
   "execution_count": 11,
   "id": "b30f5431-236e-403a-a1b5-6a6d13a537f1",
   "metadata": {},
   "outputs": [
    {
     "name": "stdout",
     "output_type": "stream",
     "text": [
      "INFO (llm_agents_fs.LLMAgent) :      🚀 Starting task: You are given a tool, `next_number`, that generates the next number in the sequence given the current number.\n",
      "\n",
      "Start with the number ...[TRUNCATED]\n",
      "INFO (llm_agents_fs.TaskHandler) :      ⚙️ Processing Step: You are given a tool, `next_number`, that generates the next number in the sequence given the current number.\n",
      "\n",
      "Start with the numb...[TRUNCATED]\n",
      "INFO (llm_agents_fs.TaskHandler) :      🛠️ Executing Tool Call: next_number\n",
      "INFO (llm_agents_fs.TaskHandler) :      ✅ Successful Tool Call: 2\n",
      "INFO (llm_agents_fs.TaskHandler) :      ✅ Step Result: <tool_call>\n",
      "{\"name\": \"next_number\", \"arguments\": {\"x\":2}}\n",
      "</tool_call>\n",
      "INFO (llm_agents_fs.TaskHandler) :      No new step required.\n",
      "INFO (llm_agents_fs.LLMAgent) :      🏁 Task completed: [4, 2]\n"
     ]
    }
   ],
   "source": [
    "handler = llm_agent.run(task)"
   ]
  },
  {
   "cell_type": "code",
   "execution_count": 12,
   "id": "41b93286-bc46-4f88-86cc-5ff26dc0ba9d",
   "metadata": {},
   "outputs": [
    {
     "data": {
      "text/plain": [
       "True"
      ]
     },
     "execution_count": 12,
     "metadata": {},
     "output_type": "execute_result"
    }
   ],
   "source": [
    "handler.done()"
   ]
  },
  {
   "cell_type": "markdown",
   "id": "849a033e-9b3d-403b-a2f5-772344c6911c",
   "metadata": {},
   "source": [
    "# See the TaskResult"
   ]
  },
  {
   "cell_type": "code",
   "execution_count": 13,
   "id": "a1da2dca-1bc4-4354-9dd8-b1273fbf407a",
   "metadata": {},
   "outputs": [],
   "source": [
    "result = handler.result()"
   ]
  },
  {
   "cell_type": "code",
   "execution_count": 14,
   "id": "3d245e14-08c8-4404-b89e-ae8d68e90a19",
   "metadata": {},
   "outputs": [
    {
     "name": "stdout",
     "output_type": "stream",
     "text": [
      "[4, 2]\n"
     ]
    }
   ],
   "source": [
    "print(result)"
   ]
  },
  {
   "cell_type": "markdown",
   "id": "693921d3-a013-4fe0-a0cf-6dac28401fdf",
   "metadata": {},
   "source": [
    "### See the Rollout"
   ]
  },
  {
   "cell_type": "code",
   "execution_count": 15,
   "id": "62341232-7788-4823-a633-24373441852f",
   "metadata": {},
   "outputs": [
    {
     "name": "stdout",
     "output_type": "stream",
     "text": [
      "=== Task Step Start ===\n",
      "\n",
      "💬 assistant: The current instruction is 'You are given a tool, `next_number`, that generates the next number in the sequence given the current number.\n",
      "\n",
      "Start with the number x=4.\n",
      "\n",
      "<rules>\n",
      "CALL `next_number` on the current number x\n",
      "STOP AND WAIT for the result.\n",
      "REPEAT this step-by-step process until the number 1 is reached.\n",
      "FINAL RESULT: When you receive the number 1, provide the complete sequence\n",
      "you observed from start to finish (including the starting number x and\n",
      "ending number 1).\n",
      "</rules>\n",
      "\n",
      "<warnings>\n",
      "NEVER fabricate or simulate tool call results\n",
      "NEVER make multiple tool calls in one response\n",
      "STOP and WAIT - ALWAYS wait for the actual tool response before deciding next steps\n",
      "</warnings>\n",
      "'\n",
      "\n",
      "💬 assistant: I need to make the following tool call(s):\n",
      "\n",
      "{\n",
      "    \"tool_name\": \"next_number\",\n",
      "    \"arguments\": {\n",
      "        \"x\": 4\n",
      "    }\n",
      "}.\n",
      "\n",
      "💬 tool: {\n",
      "    \"tool_call\": {\n",
      "        \"tool_name\": \"next_number\",\n",
      "        \"arguments\": {\n",
      "            \"x\": 4\n",
      "        }\n",
      "    },\n",
      "    \"content\": \"2\",\n",
      "    \"error\": false\n",
      "}\n",
      "\n",
      "💬 assistant: <tool_call>\n",
      "{\"name\": \"next_number\", \"arguments\": {\"x\":2}}\n",
      "</tool_call>\n",
      "\n",
      "=== Task Step End ===\n"
     ]
    }
   ],
   "source": [
    "print(handler.rollout)"
   ]
  },
  {
   "cell_type": "code",
   "execution_count": 16,
   "id": "5cbc5b9e-333d-4c9f-ab95-8a26fe5dc283",
   "metadata": {},
   "outputs": [
    {
     "data": {
      "text/plain": [
       "1"
      ]
     },
     "execution_count": 16,
     "metadata": {},
     "output_type": "execute_result"
    }
   ],
   "source": [
    "# number of task steps executed\n",
    "handler.step_counter"
   ]
  },
  {
   "cell_type": "markdown",
   "id": "8cc92798-8ca3-46ba-9277-78fcc64d1bba",
   "metadata": {},
   "source": [
    "## Evaluation"
   ]
  },
  {
   "cell_type": "code",
   "execution_count": 17,
   "id": "0ca3a07f-ea8c-457c-95c0-95194d4510d9",
   "metadata": {},
   "outputs": [],
   "source": [
    "from dataclasses import dataclass\n",
    "\n",
    "\n",
    "@dataclass\n",
    "class Example:\n",
    "    \"\"\"Benchmark example.\"\"\"\n",
    "\n",
    "    number: int\n",
    "    sequence: list[int]\n",
    "\n",
    "    @property\n",
    "    def min_steps(self) -> int:\n",
    "        \"\"\"Returns the minimum number of TaskSteps to perform the Task.\"\"\"\n",
    "        return len(self.sequence) - 1"
   ]
  },
  {
   "cell_type": "code",
   "execution_count": 18,
   "id": "152c75bb-229c-4f3d-abbb-4351df150f6f",
   "metadata": {},
   "outputs": [],
   "source": [
    "benchmark: list[Example] = [\n",
    "    Example(\n",
    "        number=11,\n",
    "        sequence=[11, 34, 17, 52, 26, 13, 40, 20, 10, 5, 16, 8, 4, 2, 1],\n",
    "    ),\n",
    "    Example(\n",
    "        number=13,\n",
    "        sequence=[13, 40, 20, 10, 5, 16, 8, 4, 2, 1],\n",
    "    ),\n",
    "    Example(\n",
    "        number=4,\n",
    "        sequence=[4, 2, 1],\n",
    "    ),\n",
    "    Example(\n",
    "        number=3,\n",
    "        sequence=[3, 10, 5, 16, 8, 4, 2, 1],\n",
    "    ),\n",
    "    Example(\n",
    "        number=2,\n",
    "        sequence=[2, 1],\n",
    "    ),\n",
    "]"
   ]
  },
  {
   "cell_type": "markdown",
   "id": "83498468-5e76-4294-818b-3c62cff385f1",
   "metadata": {},
   "source": [
    "### Run tasks"
   ]
  },
  {
   "cell_type": "code",
   "execution_count": 19,
   "id": "aa48f3ad-7d9c-4e42-8cf2-babdaf37725e",
   "metadata": {
    "scrolled": true
   },
   "outputs": [
    {
     "name": "stdout",
     "output_type": "stream",
     "text": [
      "INFO (llm_agents_fs.LLMAgent) :      🚀 Starting task: You are given a tool, `next_number`, that generates the next number in the sequence given the current number.\n",
      "\n",
      "Start with the number ...[TRUNCATED]\n",
      "INFO (llm_agents_fs.TaskHandler) :      ⚙️ Processing Step: You are given a tool, `next_number`, that generates the next number in the sequence given the current number.\n",
      "\n",
      "Start with the numb...[TRUNCATED]\n",
      "INFO (llm_agents_fs.LLMAgent) :      🚀 Starting task: You are given a tool, `next_number`, that generates the next number in the sequence given the current number.\n",
      "\n",
      "Start with the number ...[TRUNCATED]\n",
      "INFO (llm_agents_fs.TaskHandler) :      ⚙️ Processing Step: You are given a tool, `next_number`, that generates the next number in the sequence given the current number.\n",
      "\n",
      "Start with the numb...[TRUNCATED]\n",
      "INFO (llm_agents_fs.LLMAgent) :      🚀 Starting task: You are given a tool, `next_number`, that generates the next number in the sequence given the current number.\n",
      "\n",
      "Start with the number ...[TRUNCATED]\n",
      "INFO (llm_agents_fs.TaskHandler) :      ⚙️ Processing Step: You are given a tool, `next_number`, that generates the next number in the sequence given the current number.\n",
      "\n",
      "Start with the numb...[TRUNCATED]\n",
      "INFO (llm_agents_fs.LLMAgent) :      🚀 Starting task: You are given a tool, `next_number`, that generates the next number in the sequence given the current number.\n",
      "\n",
      "Start with the number ...[TRUNCATED]\n",
      "INFO (llm_agents_fs.TaskHandler) :      ⚙️ Processing Step: You are given a tool, `next_number`, that generates the next number in the sequence given the current number.\n",
      "\n",
      "Start with the numb...[TRUNCATED]\n",
      "INFO (llm_agents_fs.LLMAgent) :      🚀 Starting task: You are given a tool, `next_number`, that generates the next number in the sequence given the current number.\n",
      "\n",
      "Start with the number ...[TRUNCATED]\n",
      "INFO (llm_agents_fs.TaskHandler) :      ⚙️ Processing Step: You are given a tool, `next_number`, that generates the next number in the sequence given the current number.\n",
      "\n",
      "Start with the numb...[TRUNCATED]\n",
      "INFO (llm_agents_fs.TaskHandler) :      🛠️ Executing Tool Call: next_number\n",
      "INFO (llm_agents_fs.TaskHandler) :      ✅ Successful Tool Call: 2\n",
      "INFO (llm_agents_fs.TaskHandler) :      🛠️ Executing Tool Call: next_number\n",
      "INFO (llm_agents_fs.TaskHandler) :      ✅ Successful Tool Call: 1\n",
      "INFO (llm_agents_fs.TaskHandler) :      🛠️ Executing Tool Call: next_number\n",
      "INFO (llm_agents_fs.TaskHandler) :      ✅ Successful Tool Call: 34\n",
      "INFO (llm_agents_fs.TaskHandler) :      🛠️ Executing Tool Call: next_number\n",
      "INFO (llm_agents_fs.TaskHandler) :      ✅ Successful Tool Call: 40\n",
      "INFO (llm_agents_fs.TaskHandler) :      🛠️ Executing Tool Call: next_number\n",
      "INFO (llm_agents_fs.TaskHandler) :      ✅ Successful Tool Call: 10\n",
      "INFO (llm_agents_fs.TaskHandler) :      ✅ Step Result: <tool_call>\n",
      "{\"name\": \"next_number\", \"arguments\": {\"x\":2}}\n",
      "</tool_call>\n",
      "INFO (llm_agents_fs.TaskHandler) :      ✅ Step Result: <tool_call>\n",
      "{\"name\": \"next_number\", \"arguments\": {\"x\":1}}\n",
      "</tool_call>\n",
      "INFO (llm_agents_fs.TaskHandler) :      ✅ Step Result: <tool_call>\n",
      "{\"name\": \"next_number\", \"arguments\": {\"x\":34}}\n",
      "</tool_call>\n",
      "INFO (llm_agents_fs.TaskHandler) :      ✅ Step Result: <tool_call>\n",
      "{\"name\": \"next_number\", \"arguments\": {\"x\":40}}\n",
      "</tool_call>\n",
      "INFO (llm_agents_fs.TaskHandler) :      ✅ Step Result: <tool_call>\n",
      "{\"name\": \"next_number\", \"arguments\": {\"x\": 10}}\n",
      "</tool_call>\n",
      "INFO (llm_agents_fs.TaskHandler) :      🧠 New Step: The tool returned the result as expected. Now I need to call `next_number` again with x set to 1.\n",
      "INFO (llm_agents_fs.TaskHandler) :      ⚙️ Processing Step: The tool returned the result as expected. Now I need to call `next_number` again with x set to 1.\n",
      "INFO (llm_agents_fs.TaskHandler) :      🧠 New Step: The `next_number` tool returned the result as '2' for x=4. Now I need to generate the next number in the sequence by calling the `next_num...[TRUNCATED]\n",
      "INFO (llm_agents_fs.TaskHandler) :      ⚙️ Processing Step: The `next_number` tool returned the result as '2' for x=4. Now I need to generate the next number in the sequence by calling the `...[TRUNCATED]\n",
      "INFO (llm_agents_fs.TaskHandler) :      🧠 New Step: The tool has returned the next number in the sequence as 34. Now, I need to make another call with x=34.\n",
      "INFO (llm_agents_fs.TaskHandler) :      ⚙️ Processing Step: The tool has returned the next number in the sequence as 34. Now, I need to make another call with x=34.\n",
      "INFO (llm_agents_fs.TaskHandler) :      No new step required.\n",
      "INFO (llm_agents_fs.LLMAgent) :      🏁 Task completed: The sequence generated from starting number x=3 is as follows: \n",
      "3, 10\n",
      "INFO (llm_agents_fs.TaskHandler) :      🧠 New Step: The tool has returned the result of calling `next_number` with x=13, which is 40. Now I will make a new call to `next_number` using the nu...[TRUNCATED]\n",
      "INFO (llm_agents_fs.TaskHandler) :      ⚙️ Processing Step: The tool has returned the result of calling `next_number` with x=13, which is 40. Now I will make a new call to `next_number` usin...[TRUNCATED]\n",
      "INFO (llm_agents_fs.TaskHandler) :      🛠️ Executing Tool Call: next_number\n",
      "INFO (llm_agents_fs.TaskHandler) :      ✅ Successful Tool Call: 4\n",
      "INFO (llm_agents_fs.TaskHandler) :      🛠️ Executing Tool Call: next_number\n",
      "INFO (llm_agents_fs.TaskHandler) :      ✅ Successful Tool Call: 1\n",
      "INFO (llm_agents_fs.TaskHandler) :      🛠️ Executing Tool Call: next_number\n",
      "INFO (llm_agents_fs.TaskHandler) :      ✅ Successful Tool Call: 17\n",
      "INFO (llm_agents_fs.TaskHandler) :      🛠️ Executing Tool Call: next_number\n",
      "INFO (llm_agents_fs.TaskHandler) :      ✅ Successful Tool Call: 20\n",
      "INFO (llm_agents_fs.TaskHandler) :      ✅ Step Result: I have called the `next_number` tool with x set to 1, and it returned the result as 4. Now I will wait for the next result.\n",
      "\n",
      "I need to ...[TRUNCATED]\n",
      "INFO (llm_agents_fs.TaskHandler) :      ✅ Step Result: Now that the `next_number` tool has returned '1' for x=2, you can proceed to generate the next number in the sequence by calling the `n...[TRUNCATED]\n",
      "INFO (llm_agents_fs.TaskHandler) :      ✅ Step Result: The next number in the sequence after 34 is 17. I will make a call with x=17 now.\n",
      "\n",
      "{\n",
      "    \"name\": \"next_number\",\n",
      "    \"arguments\": {\n",
      "    ...[TRUNCATED]\n",
      "INFO (llm_agents_fs.TaskHandler) :      ✅ Step Result: The next number after 40 is 20. I will now make a call to `next_number` with the argument of 20.\n",
      "\n",
      "I need to make the following tool cal...[TRUNCATED]\n",
      "INFO (llm_agents_fs.TaskHandler) :      🧠 New Step: { \"tool_name\": \"next_number\", \"arguments\": {\"x\": 4}}\n",
      "INFO (llm_agents_fs.TaskHandler) :      ⚙️ Processing Step: { \"tool_name\": \"next_number\", \"arguments\": {\"x\": 4}}\n",
      "INFO (llm_agents_fs.TaskHandler) :      🧠 New Step: Awaiting the result of calling `next_number` with x=17.\n",
      "INFO (llm_agents_fs.TaskHandler) :      ⚙️ Processing Step: Awaiting the result of calling `next_number` with x=17.\n",
      "INFO (llm_agents_fs.TaskHandler) :      🧠 New Step: The current instruction is 'NEVER fabricate or simulate tool call results. STOP and WAIT - ALWAYS wait for the actual tool response before...[TRUNCATED]\n",
      "INFO (llm_agents_fs.TaskHandler) :      ⚙️ Processing Step: The current instruction is 'NEVER fabricate or simulate tool call results. STOP and WAIT - ALWAYS wait for the actual tool respons...[TRUNCATED]\n",
      "INFO (llm_agents_fs.TaskHandler) :      🛠️ Executing Tool Call: next_number\n",
      "INFO (llm_agents_fs.TaskHandler) :      ✅ Successful Tool Call: 2\n",
      "INFO (llm_agents_fs.TaskHandler) :      🛠️ Executing Tool Call: next_number\n",
      "INFO (llm_agents_fs.TaskHandler) :      ✅ Successful Tool Call: 52\n",
      "INFO (llm_agents_fs.TaskHandler) :      🧠 New Step: \n",
      "\n",
      "The current instruction is 'The next number after 40 is 20. I will now make a call to `next_number` with the argument of 20.\n",
      "\n",
      "I need to ...[TRUNCATED]\n",
      "INFO (llm_agents_fs.TaskHandler) :      ⚙️ Processing Step: \n",
      "\n",
      "The current instruction is 'The next number after 40 is 20. I will now make a call to `next_number` with the argument of 20.\n",
      "\n",
      "I ...[TRUNCATED]\n",
      "INFO (llm_agents_fs.TaskHandler) :      🛠️ Executing Tool Call: next_number\n",
      "INFO (llm_agents_fs.TaskHandler) :      ✅ Successful Tool Call: 4\n",
      "INFO (llm_agents_fs.TaskHandler) :      ✅ Step Result: The next number in the sequence after 17 is 52. \n",
      "\n",
      "I will now make another call with x=52.\n",
      "\n",
      "{\n",
      "    \"name\": \"next_number\",\n",
      "    \"arguments\"...[TRUNCATED]\n",
      "INFO (llm_agents_fs.TaskHandler) :      ✅ Step Result: I have called the `next_number` tool with x set to 4, and it returned the result as 2. \n",
      "\n",
      "Now I will call the `next_number` tool again w...[TRUNCATED]\n",
      "INFO (llm_agents_fs.TaskHandler) :      🛠️ Executing Tool Call: next_number\n",
      "INFO (llm_agents_fs.TaskHandler) :      ✅ Successful Tool Call: 10\n",
      "INFO (llm_agents_fs.TaskHandler) :      🧠 New Step: The next number in the sequence after 17 is 52. I will now make another call with x=52.\n",
      "INFO (llm_agents_fs.TaskHandler) :      ⚙️ Processing Step: The next number in the sequence after 17 is 52. I will now make another call with x=52.\n",
      "INFO (llm_agents_fs.TaskHandler) :      🧠 New Step: { \"tool_name\": \"next_number\", \"arguments\": {\"x\": 2}}\n",
      "INFO (llm_agents_fs.TaskHandler) :      ⚙️ Processing Step: { \"tool_name\": \"next_number\", \"arguments\": {\"x\": 2}}\n",
      "INFO (llm_agents_fs.TaskHandler) :      ✅ Step Result: The tool returned the result for x=1 as '4'. Now I can proceed to continue generating the sequence:\n",
      "\n",
      "I need to make the following tool ...[TRUNCATED]\n",
      "INFO (llm_agents_fs.TaskHandler) :      🛠️ Executing Tool Call: next_number\n",
      "INFO (llm_agents_fs.TaskHandler) :      ✅ Successful Tool Call: 26\n",
      "INFO (llm_agents_fs.TaskHandler) :      ✅ Step Result: The next number after 20 is 10. I will now make a call to `next_number` with the argument of 10.\n",
      "\n",
      "I need to make the following tool cal...[TRUNCATED]\n",
      "INFO (llm_agents_fs.TaskHandler) :      🛠️ Executing Tool Call: next_number\n",
      "INFO (llm_agents_fs.TaskHandler) :      ✅ Successful Tool Call: 1\n",
      "INFO (llm_agents_fs.TaskHandler) :      🧠 New Step: > {\n",
      "INFO (llm_agents_fs.TaskHandler) :      ⚙️ Processing Step: > {\n",
      "INFO (llm_agents_fs.TaskHandler) :      🧠 New Step: { \"tool_name\": \"next_number\", \"arguments\": { \"x\": 10 }}\n",
      "INFO (llm_agents_fs.TaskHandler) :      ⚙️ Processing Step: { \"tool_name\": \"next_number\", \"arguments\": { \"x\": 10 }}\n",
      "INFO (llm_agents_fs.TaskHandler) :      ✅ Step Result: The next number in the sequence after 52 is 26. \n",
      "\n",
      "I will now make another call with x=26.\n",
      "\n",
      "{\n",
      "    \"name\": \"next_number\",\n",
      "    \"arguments\"...[TRUNCATED]\n",
      "INFO (llm_agents_fs.TaskHandler) :      🛠️ Executing Tool Call: next_number\n",
      "INFO (llm_agents_fs.TaskHandler) :      ✅ Successful Tool Call: 2\n",
      "INFO (llm_agents_fs.TaskHandler) :      🛠️ Executing Tool Call: next_number\n",
      "INFO (llm_agents_fs.TaskHandler) :      ✅ Successful Tool Call: 5\n",
      "INFO (llm_agents_fs.TaskHandler) :      ✅ Step Result: The tool returned the result as expected. Now, I will call the `next_number` tool again with x set to 1.\n",
      "\n",
      "I need to make the following ...[TRUNCATED]\n",
      "INFO (llm_agents_fs.TaskHandler) :      🧠 New Step: { \"tool_name\": \"next_number\", \"arguments\": { \"x\": 26 } }\n",
      "INFO (llm_agents_fs.TaskHandler) :      ⚙️ Processing Step: { \"tool_name\": \"next_number\", \"arguments\": { \"x\": 26 } }\n",
      "INFO (llm_agents_fs.TaskHandler) :      ✅ Step Result: The next number after 10 is 5. \n",
      "\n",
      "I will now make a call to `next_number` with the argument of 5.\n",
      "\n",
      "I need to make the following tool cal...[TRUNCATED]\n",
      "INFO (llm_agents_fs.TaskHandler) :      ✅ Step Result: The tool returned '2' for the input `x=4`. Now I will use this result to continue generating the sequence. \n",
      "\n",
      "I need to make a call to t...[TRUNCATED]\n",
      "INFO (llm_agents_fs.TaskHandler) :      🧠 New Step: { \"tool_name\": \"next_number\", \"arguments\": {\"x\": 1}}\n",
      "INFO (llm_agents_fs.TaskHandler) :      ⚙️ Processing Step: { \"tool_name\": \"next_number\", \"arguments\": {\"x\": 1}}\n",
      "INFO (llm_agents_fs.TaskHandler) :      🛠️ Executing Tool Call: next_number\n",
      "INFO (llm_agents_fs.TaskHandler) :      ✅ Successful Tool Call: 13\n",
      "INFO (llm_agents_fs.TaskHandler) :      🧠 New Step: { \n",
      "INFO (llm_agents_fs.TaskHandler) :      ⚙️ Processing Step: { \n",
      "INFO (llm_agents_fs.TaskHandler) :      🛠️ Executing Tool Call: next_number\n",
      "INFO (llm_agents_fs.TaskHandler) :      ✅ Successful Tool Call: 4\n",
      "INFO (llm_agents_fs.TaskHandler) :      🧠 New Step: { \"tool_name\": \"next_number\", \"arguments\": {\"x\": 2} }\n",
      "INFO (llm_agents_fs.TaskHandler) :      ⚙️ Processing Step: { \"tool_name\": \"next_number\", \"arguments\": {\"x\": 2} }\n",
      "INFO (llm_agents_fs.TaskHandler) :      ✅ Step Result: The next number in the sequence after 26 is 13. \n",
      "\n",
      "I will now make another call with x=13.\n",
      "\n",
      "{\n",
      "    \"name\": \"next_number\",\n",
      "    \"arguments\"...[TRUNCATED]\n",
      "INFO (llm_agents_fs.TaskHandler) :      🛠️ Executing Tool Call: next_number\n",
      "INFO (llm_agents_fs.TaskHandler) :      ✅ Successful Tool Call: 16\n",
      "INFO (llm_agents_fs.TaskHandler) :      ✅ Step Result: <tool_call>\n",
      "{\"name\": \"next_number\", \"arguments\": {\"x\":4}}\n",
      "</tool_call>\n",
      "INFO (llm_agents_fs.TaskHandler) :      🛠️ Executing Tool Call: next_number\n",
      "INFO (llm_agents_fs.TaskHandler) :      ✅ Successful Tool Call: 1\n",
      "INFO (llm_agents_fs.TaskHandler) :      🧠 New Step: { \"tool_name\": \"next_number\", \"arguments\": { \"x\": 13 } }\n",
      "INFO (llm_agents_fs.TaskHandler) :      ⚙️ Processing Step: { \"tool_name\": \"next_number\", \"arguments\": { \"x\": 13 } }\n",
      "INFO (llm_agents_fs.TaskHandler) :      No new step required.\n",
      "INFO (llm_agents_fs.LLMAgent) :      🏁 Task completed: [2, 4, 1]\n",
      "INFO (llm_agents_fs.TaskHandler) :      ✅ Step Result: The next number after 5 is 16. \n",
      "\n",
      "I will now make a call to `next_number` with the argument of 16.\n",
      "\n",
      "I need to make the following tool ca...[TRUNCATED]\n",
      "INFO (llm_agents_fs.TaskHandler) :      🛠️ Executing Tool Call: next_number\n",
      "INFO (llm_agents_fs.TaskHandler) :      ✅ Successful Tool Call: 40\n",
      "INFO (llm_agents_fs.TaskHandler) :      🧠 New Step: { \n",
      "INFO (llm_agents_fs.TaskHandler) :      ⚙️ Processing Step: { \n",
      "INFO (llm_agents_fs.TaskHandler) :      ✅ Step Result: <tool_call>\n",
      "{\"name\": \"next_number\", \"arguments\": {\"x\":40}}\n",
      "</tool_call>\n",
      "\n",
      "The next number in the sequence after 13 is 40. \n",
      "\n",
      "I will make ...[TRUNCATED]\n",
      "INFO (llm_agents_fs.TaskHandler) :      ✅ Step Result: The tool returned '1' for the input `x=2`. Now I will use this result to continue generating the sequence. \n",
      "\n",
      "I need to make a call to t...[TRUNCATED]\n",
      "INFO (llm_agents_fs.TaskHandler) :      🧠 New Step: { \"name\": \"next_number\", \"arguments\": {\"x\": 40}\n",
      "INFO (llm_agents_fs.TaskHandler) :      ⚙️ Processing Step: { \"name\": \"next_number\", \"arguments\": {\"x\": 40}\n",
      "INFO (llm_agents_fs.TaskHandler) :      🧠 New Step: { \"tool_name\": \"next_number\", \"arguments\": {\"x\": 1} }\n",
      "INFO (llm_agents_fs.TaskHandler) :      ⚙️ Processing Step: { \"tool_name\": \"next_number\", \"arguments\": {\"x\": 1} }\n",
      "INFO (llm_agents_fs.TaskHandler) :      🛠️ Executing Tool Call: next_number\n",
      "INFO (llm_agents_fs.TaskHandler) :      ✅ Successful Tool Call: 8\n",
      "INFO (llm_agents_fs.TaskHandler) :      🛠️ Executing Tool Call: next_number\n",
      "INFO (llm_agents_fs.TaskHandler) :      ✅ Successful Tool Call: 4\n",
      "INFO (llm_agents_fs.TaskHandler) :      🛠️ Executing Tool Call: next_number\n",
      "INFO (llm_agents_fs.TaskHandler) :      ✅ Successful Tool Call: 20\n",
      "INFO (llm_agents_fs.TaskHandler) :      🛠️ Executing Tool Call: next_number\n",
      "INFO (llm_agents_fs.TaskHandler) :      ✅ Successful Tool Call: 40\n",
      "INFO (llm_agents_fs.TaskHandler) :      ✅ Step Result: The next number after 16 is 8. \n",
      "\n",
      "Now, we can stop and provide the complete sequence from start to finish:\n",
      "\n",
      "Starting with x = 13, the se...[TRUNCATED]\n",
      "INFO (llm_agents_fs.TaskHandler) :      ✅ Step Result: The tool returned '4' for the input `x=1`. Now I will use this result to continue generating the sequence. \n",
      "\n",
      "Starting from the current ...[TRUNCATED]\n",
      "INFO (llm_agents_fs.TaskHandler) :      No new step required.\n",
      "INFO (llm_agents_fs.LLMAgent) :      🏁 Task completed: Starting with x = 13, the sequence observed was: **13 → 40 → 20 → 10 → 5 → 16 → 8**. The process has now completed as requested.\n",
      "INFO (llm_agents_fs.TaskHandler) :      ✅ Step Result: We have reached a point where the sequence is starting to repeat. We are currently at 40, and calling `next_number` with x=13 also retu...[TRUNCATED]\n",
      "INFO (llm_agents_fs.TaskHandler) :      No new step required.\n",
      "INFO (llm_agents_fs.LLMAgent) :      🏁 Task completed: [4, 2, 1]\n",
      "INFO (llm_agents_fs.TaskHandler) :      🧠 New Step: Awaiting the result of calling `next_number` with x=40.\n",
      "INFO (llm_agents_fs.TaskHandler) :      ⚙️ Processing Step: Awaiting the result of calling `next_number` with x=40.\n",
      "INFO (llm_agents_fs.TaskHandler) :      🛠️ Executing Tool Call: next_number\n",
      "INFO (llm_agents_fs.TaskHandler) :      ✅ Successful Tool Call: 20\n",
      "INFO (llm_agents_fs.TaskHandler) :      ✅ Step Result: The next number in the sequence after 40 is now 20. \n",
      "\n",
      "Let's make another call with x set to 20:\n",
      "\n",
      "{ \"name\": \"next_number\", \"arguments\": ...[TRUNCATED]\n",
      "INFO (llm_agents_fs.TaskHandler) :      🧠 New Step: Awaiting the result of calling `next_number` with x=20.\n",
      "INFO (llm_agents_fs.TaskHandler) :      ⚙️ Processing Step: Awaiting the result of calling `next_number` with x=20.\n",
      "INFO (llm_agents_fs.TaskHandler) :      🛠️ Executing Tool Call: next_number\n",
      "INFO (llm_agents_fs.TaskHandler) :      ✅ Successful Tool Call: 10\n",
      "INFO (llm_agents_fs.TaskHandler) :      ✅ Step Result: The next number in the sequence after 20 is now 10. \n",
      "\n",
      "Let's make another call with x set to 10:\n",
      "\n",
      "{ \"name\": \"next_number\", \"arguments\": ...[TRUNCATED]\n",
      "INFO (llm_agents_fs.TaskHandler) :      🧠 New Step: { \"tool_name\": \"next_number\", \"arguments\": { \"x\": 10 } }\n",
      "INFO (llm_agents_fs.TaskHandler) :      ⚙️ Processing Step: { \"tool_name\": \"next_number\", \"arguments\": { \"x\": 10 } }\n",
      "INFO (llm_agents_fs.TaskHandler) :      🛠️ Executing Tool Call: next_number\n",
      "INFO (llm_agents_fs.TaskHandler) :      ✅ Successful Tool Call: 5\n",
      "INFO (llm_agents_fs.TaskHandler) :      ✅ Step Result: We have the next number in the sequence after 10, which is 5. Now we will make another call with x set to 5:\n",
      "\n",
      "{ \"name\": \"next_number\", ...[TRUNCATED]\n",
      "INFO (llm_agents_fs.TaskHandler) :      🧠 New Step: The current instruction is '{ \"tool_name\": \"next_number\", \"arguments\": { \"x\": 5 } }'. The assistant needs to make the following tool call(...[TRUNCATED]\n",
      "INFO (llm_agents_fs.TaskHandler) :      ⚙️ Processing Step: The current instruction is '{ \"tool_name\": \"next_number\", \"arguments\": { \"x\": 5 } }'. The assistant needs to make the following to...[TRUNCATED]\n",
      "INFO (llm_agents_fs.TaskHandler) :      🛠️ Executing Tool Call: next_number\n",
      "INFO (llm_agents_fs.TaskHandler) :      ✅ Successful Tool Call: 16\n",
      "INFO (llm_agents_fs.TaskHandler) :      ✅ Step Result: The next number in the sequence after 5 is 16. The assistant will now make a call with x set to 16:\n",
      "\n",
      "```json\n",
      "{\n",
      "    \"name\": \"next_number...[TRUNCATED]\n",
      "INFO (llm_agents_fs.TaskHandler) :      🧠 New Step: \n",
      "I need to make the following tool call(s):\n",
      "```json\n",
      "{\n",
      "    \"tool_name\": \"next_number\",\n",
      "    \"arguments\": {\n",
      "        \"x\": 16\n",
      "    }\n",
      "}\n",
      "```\n",
      "INFO (llm_agents_fs.TaskHandler) :      ⚙️ Processing Step: \n",
      "I need to make the following tool call(s):\n",
      "```json\n",
      "{\n",
      "    \"tool_name\": \"next_number\",\n",
      "    \"arguments\": {\n",
      "        \"x\": 16\n",
      "    }\n",
      "}\n",
      "`...[TRUNCATED]\n",
      "INFO (llm_agents_fs.TaskHandler) :      🛠️ Executing Tool Call: next_number\n",
      "INFO (llm_agents_fs.TaskHandler) :      ✅ Successful Tool Call: 8\n",
      "INFO (llm_agents_fs.TaskHandler) :      ✅ Step Result: The next number in the sequence after 16 is 8. \n",
      "\n",
      "Let's make another call with x set to 8:\n",
      "\n",
      "```json\n",
      "{\n",
      "    \"name\": \"next_number\",\n",
      "    \"ar...[TRUNCATED]\n",
      "INFO (llm_agents_fs.TaskHandler) :      🧠 New Step: The current instruction is '{ \n",
      "INFO (llm_agents_fs.TaskHandler) :      ⚙️ Processing Step: The current instruction is '{ \n",
      "INFO (llm_agents_fs.TaskHandler) :      ✅ Step Result: It seems like you've started a JSON structure but haven't completed it. Could you please provide the full context or continue from wher...[TRUNCATED]\n",
      "INFO (llm_agents_fs.TaskHandler) :      🧠 New Step: `next_number` has returned 8 as the next number in the sequence. Now, I will make another call with x set to 8: `{\n",
      "INFO (llm_agents_fs.TaskHandler) :      ⚙️ Processing Step: `next_number` has returned 8 as the next number in the sequence. Now, I will make another call with x set to 8: `{\n",
      "INFO (llm_agents_fs.TaskHandler) :      🛠️ Executing Tool Call: next_number\n",
      "INFO (llm_agents_fs.TaskHandler) :      ✅ Successful Tool Call: 4\n",
      "INFO (llm_agents_fs.TaskHandler) :      ✅ Step Result: The next number in the sequence after 8 is 4. \n",
      "\n",
      "Now, I will make another call with x set to 4:\n",
      "\n",
      "```json\n",
      "{\n",
      "    \"name\": \"next_number\",\n",
      "  ...[TRUNCATED]\n",
      "INFO (llm_agents_fs.TaskHandler) :      🧠 New Step: Awaiting the result of calling `next_number` with x=4.\n",
      "INFO (llm_agents_fs.TaskHandler) :      ⚙️ Processing Step: Awaiting the result of calling `next_number` with x=4.\n",
      "INFO (llm_agents_fs.TaskHandler) :      🛠️ Executing Tool Call: next_number\n",
      "INFO (llm_agents_fs.TaskHandler) :      ✅ Successful Tool Call: 2\n",
      "INFO (llm_agents_fs.TaskHandler) :      ✅ Step Result: The next number in the sequence after 4 is 2. \n",
      "\n",
      "Now, I will make another call with x set to 2:\n",
      "\n",
      "```json\n",
      "{\n",
      "    \"name\": \"next_number\",\n",
      "  ...[TRUNCATED]\n",
      "INFO (llm_agents_fs.TaskHandler) :      🧠 New Step: { \"tool_name\": \"next_number\", \"arguments\": {\"x\":2} }\n",
      "INFO (llm_agents_fs.TaskHandler) :      ⚙️ Processing Step: { \"tool_name\": \"next_number\", \"arguments\": {\"x\":2} }\n",
      "INFO (llm_agents_fs.TaskHandler) :      🛠️ Executing Tool Call: next_number\n",
      "INFO (llm_agents_fs.TaskHandler) :      ✅ Successful Tool Call: 1\n",
      "INFO (llm_agents_fs.TaskHandler) :      ✅ Step Result: The next number in the sequence after 2 is 1. \n",
      "\n",
      "Now, we have reached a number that will be used as input for our final call:\n",
      "\n",
      "```json\n",
      "{...[TRUNCATED]\n",
      "INFO (llm_agents_fs.TaskHandler) :      🧠 New Step: [**Make a call with `x` set to 1**] - `{ \n",
      "INFO (llm_agents_fs.TaskHandler) :      ⚙️ Processing Step: [**Make a call with `x` set to 1**] - `{ \n",
      "INFO (llm_agents_fs.TaskHandler) :      🛠️ Executing Tool Call: next_number\n",
      "INFO (llm_agents_fs.TaskHandler) :      ✅ Successful Tool Call: 4\n",
      "INFO (llm_agents_fs.TaskHandler) :      ✅ Step Result: The sequence continues with the next number being `4`. \n",
      "\n",
      "Let's make another call with `x` set to `4`:\n",
      "\n",
      "```json\n",
      "{\n",
      "    \"name\": \"next_numb...[TRUNCATED]\n",
      "INFO (llm_agents_fs.TaskHandler) :      🧠 New Step: Make a call with `x` set to 1\n",
      "INFO (llm_agents_fs.TaskHandler) :      ⚙️ Processing Step: Make a call with `x` set to 1\n",
      "INFO (llm_agents_fs.TaskHandler) :      🛠️ Executing Tool Call: next_number\n",
      "INFO (llm_agents_fs.TaskHandler) :      ✅ Successful Tool Call: 4\n",
      "INFO (llm_agents_fs.TaskHandler) :      ✅ Step Result: The sequence continues with the next number being `4`. \n",
      "\n",
      "Let's make another call with `x` set to `4`:\n",
      "\n",
      "```json\n",
      "{\n",
      "    \"name\": \"next_numb...[TRUNCATED]\n",
      "INFO (llm_agents_fs.TaskHandler) :      🧠 New Step: [Make a call with `x` set to 1] - { \n",
      "INFO (llm_agents_fs.TaskHandler) :      ⚙️ Processing Step: [Make a call with `x` set to 1] - { \n",
      "INFO (llm_agents_fs.TaskHandler) :      🛠️ Executing Tool Call: next_number\n",
      "INFO (llm_agents_fs.TaskHandler) :      ✅ Successful Tool Call: 4\n",
      "INFO (llm_agents_fs.TaskHandler) :      ✅ Step Result: The sequence continues with the next number being `4`. \n",
      "\n",
      "Let's make another call with `x` set to `4`:\n",
      "\n",
      "```json\n",
      "{\n",
      "    \"name\": \"next_numb...[TRUNCATED]\n",
      "INFO (llm_agents_fs.TaskHandler) :      🧠 New Step: Awaiting the response from the call with x set to 4.\n",
      "INFO (llm_agents_fs.TaskHandler) :      ⚙️ Processing Step: Awaiting the response from the call with x set to 4.\n",
      "INFO (llm_agents_fs.TaskHandler) :      🛠️ Executing Tool Call: next_number\n",
      "INFO (llm_agents_fs.TaskHandler) :      ✅ Successful Tool Call: 2\n",
      "INFO (llm_agents_fs.TaskHandler) :      ✅ Step Result: The sequence continues with the next number being `2`. \n",
      "\n",
      "Let's make another call with `x` set to `2`:\n",
      "\n",
      "```json\n",
      "{\n",
      "    \"name\": \"next_numb...[TRUNCATED]\n",
      "INFO (llm_agents_fs.TaskHandler) :      🧠 New Step: [**Awaiting the response from the call with x set to 1**] - { }\n",
      "INFO (llm_agents_fs.TaskHandler) :      ⚙️ Processing Step: [**Awaiting the response from the call with x set to 1**] - { }\n",
      "INFO (llm_agents_fs.TaskHandler) :      🛠️ Executing Tool Call: next_number\n",
      "INFO (llm_agents_fs.TaskHandler) :      ✅ Successful Tool Call: 4\n",
      "INFO (llm_agents_fs.TaskHandler) :      ✅ Step Result: The sequence continues with the next number being `4`. \n",
      "\n",
      "Now, we have made a call with `x` set to `1` and received `4` as the next numb...[TRUNCATED]\n",
      "INFO (llm_agents_fs.TaskHandler) :      🧠 New Step: Awaiting the response from the call with x set to 1.\n",
      "INFO (llm_agents_fs.TaskHandler) :      ⚙️ Processing Step: Awaiting the response from the call with x set to 1.\n",
      "INFO (llm_agents_fs.TaskHandler) :      🛠️ Executing Tool Call: next_number\n",
      "INFO (llm_agents_fs.TaskHandler) :      ✅ Successful Tool Call: 4\n",
      "INFO (llm_agents_fs.TaskHandler) :      ✅ Step Result: The sequence of numbers generated by the `next_number` function, starting from an initial value and continuing with subsequent calls to...[TRUNCATED]\n",
      "INFO (llm_agents_fs.TaskHandler) :      🧠 New Step: The sequence generated by the `next_number` function is as follows: 1 → 4. If you need to continue this process further with any specific ...[TRUNCATED]\n",
      "INFO (llm_agents_fs.TaskHandler) :      ⚙️ Processing Step: The sequence generated by the `next_number` function is as follows: 1 → 4. If you need to continue this process further with any s...[TRUNCATED]\n",
      "INFO (llm_agents_fs.TaskHandler) :      ✅ Step Result: Sure, I can help you continue the sequence generation. Could you provide me with an initial number and perhaps specify if you want to g...[TRUNCATED]\n",
      "INFO (llm_agents_fs.TaskHandler) :      🧠 New Step: To continue the sequence generation, I will first take an initial number as input. Let's start with the last known step where we ended up ...[TRUNCATED]\n",
      "INFO (llm_agents_fs.TaskHandler) :      ⚙️ Processing Step: To continue the sequence generation, I will first take an initial number as input. Let's start with the last known step where we e...[TRUNCATED]\n",
      "INFO (llm_agents_fs.TaskHandler) :      ✅ Step Result: Sure! If you're ready to continue the sequence, please provide the next integer after 4 that follows your chosen rule. Or if you want t...[TRUNCATED]\n",
      "INFO (llm_agents_fs.TaskHandler) :      🧠 New Step: We've established that after starting with `1` and reaching `4`, if we continue using the function, it will always return `4`. Assuming th...[TRUNCATED]\n",
      "INFO (llm_agents_fs.TaskHandler) :      ⚙️ Processing Step: We've established that after starting with `1` and reaching `4`, if we continue using the function, it will always return `4`. Ass...[TRUNCATED]\n",
      "INFO (llm_agents_fs.TaskHandler) :      ✅ Step Result: Sure, I can help with generating numbers following any pattern you want to define. Could you please specify what kind of sequence or st...[TRUNCATED]\n",
      "INFO (llm_agents_fs.TaskHandler) :      🧠 New Step: Let's continue by specifying a different initial number for the sequence. If you don't have a specific preference, we can start with an ea...[TRUNCATED]\n",
      "INFO (llm_agents_fs.TaskHandler) :      ⚙️ Processing Step: Let's continue by specifying a different initial number for the sequence. If you don't have a specific preference, we can start wi...[TRUNCATED]\n",
      "INFO (llm_agents_fs.TaskHandler) :      🛠️ Executing Tool Call: next_number\n",
      "INFO (llm_agents_fs.TaskHandler) :      ✅ Successful Tool Call: 16\n",
      "INFO (llm_agents_fs.TaskHandler) :      ✅ Step Result: We've established that after starting with `1` and reaching `4`, if we continue using the function, it will always return `4`. However,...[TRUNCATED]\n",
      "INFO (llm_agents_fs.TaskHandler) :      🧠 New Step: \n",
      "The current instruction is 'Let's continue by specifying a different initial number for the sequence. If you don't have a specific prefer...[TRUNCATED]\n",
      "INFO (llm_agents_fs.TaskHandler) :      ⚙️ Processing Step: \n",
      "The current instruction is 'Let's continue by specifying a different initial number for the sequence. If you don't have a specifi...[TRUNCATED]\n",
      "INFO (llm_agents_fs.TaskHandler) :      🛠️ Executing Tool Call: next_number\n",
      "INFO (llm_agents_fs.TaskHandler) :      ✅ Successful Tool Call: 16\n",
      "INFO (llm_agents_fs.TaskHandler) :      ✅ Step Result: The sequence of numbers generated by the `next_number` function has established a pattern with the initial value and subsequent calls. ...[TRUNCATED]\n",
      "INFO (llm_agents_fs.TaskHandler) :      🧠 New Step: To continue the sequence, I will call the `next_number` function with the last known number in the sequence, which is 16. This will help u...[TRUNCATED]\n",
      "INFO (llm_agents_fs.TaskHandler) :      ⚙️ Processing Step: To continue the sequence, I will call the `next_number` function with the last known number in the sequence, which is 16. This wil...[TRUNCATED]\n",
      "INFO (llm_agents_fs.TaskHandler) :      🛠️ Executing Tool Call: next_number\n",
      "INFO (llm_agents_fs.TaskHandler) :      ✅ Successful Tool Call: 8\n",
      "INFO (llm_agents_fs.TaskHandler) :      ✅ Step Result: We've established a pattern in the sequence generated by the `next_number` function. Starting from an initial value, we have observed t...[TRUNCATED]\n",
      "INFO (llm_agents_fs.TaskHandler) :      🧠 New Step: {\n",
      "INFO (llm_agents_fs.TaskHandler) :      ⚙️ Processing Step: {\n",
      "INFO (llm_agents_fs.TaskHandler) :      ✅ Step Result: I'm not sure what I'm asking for. Could you provide more context or an example? I need help, but I'm not clear on the task at hand. Ple...[TRUNCATED]\n",
      "INFO (llm_agents_fs.TaskHandler) :      No new step required.\n",
      "INFO (llm_agents_fs.LLMAgent) :      🏁 Task completed: Based on our previous sequence generation using the `next_number` function, we have observed that starting from different initial va...[TRUNCATED]\n"
     ]
    }
   ],
   "source": [
    "handlers = []\n",
    "for ex in benchmark:\n",
    "    h = llm_agent.run(\n",
    "        Task(\n",
    "            instruction=instruction_template.format(x=ex.number),\n",
    "        ),\n",
    "        max_steps=30,\n",
    "    )\n",
    "    handlers.append(h)"
   ]
  },
  {
   "cell_type": "code",
   "execution_count": 47,
   "id": "46def559-27e2-432a-acae-ba66fc6a7f1c",
   "metadata": {},
   "outputs": [
    {
     "data": {
      "text/plain": [
       "[True, True, True, True, True]"
      ]
     },
     "execution_count": 47,
     "metadata": {},
     "output_type": "execute_result"
    }
   ],
   "source": [
    "[h.done() for h in handlers]"
   ]
  },
  {
   "cell_type": "code",
   "execution_count": 48,
   "id": "a5525a24-88e2-458c-bbc0-29791573dedb",
   "metadata": {},
   "outputs": [
    {
     "data": {
      "text/plain": [
       "[TaskResult(task_id='13bc6038-a7c3-4f0b-b9d8-5c4a668786ab', content='Based on our previous sequence generation using the `next_number` function, we have observed that starting from different initial values results in consistent patterns. Here are the steps of the generated sequence so far with detailed explanations for each step:'),\n",
       " TaskResult(task_id='f3a60d55-f9db-4bc0-8b71-dd7f28a38989', content='Starting with x = 13, the sequence observed was: **13 → 40 → 20 → 10 → 5 → 16 → 8**. The process has now completed as requested.'),\n",
       " TaskResult(task_id='1d17ffdc-1ca4-4143-8cf4-a2bc0d3cccb5', content='[4, 2, 1]'),\n",
       " TaskResult(task_id='4eb8567f-b3df-48bc-9785-328b7e41f9f9', content='The sequence generated from starting number x=3 is as follows: \\n3, 10'),\n",
       " TaskResult(task_id='30a3e24b-3ef3-472f-b60d-52d8350ac5c5', content='[2, 4, 1]')]"
      ]
     },
     "execution_count": 48,
     "metadata": {},
     "output_type": "execute_result"
    }
   ],
   "source": [
    "[h.result() for h in handlers]"
   ]
  },
  {
   "cell_type": "markdown",
   "id": "77e16726-db46-4b76-8e56-597952dc3a5c",
   "metadata": {},
   "source": [
    "## Result Correctness Evaluation"
   ]
  },
  {
   "cell_type": "markdown",
   "id": "cb90938b-d731-4e3c-a2fb-4dea60911a1b",
   "metadata": {},
   "source": [
    "### Setup Judge LLM"
   ]
  },
  {
   "cell_type": "code",
   "execution_count": 49,
   "id": "cb6aa49b-98bc-4b57-8830-71e4969cf504",
   "metadata": {},
   "outputs": [],
   "source": [
    "judge_prompt_template = \"\"\"\n",
    "You are an evaluation assistant. Given a number and its correct sequence, use\n",
    "them to assess whether another assistant's final result contains the correct\n",
    "sequence.\n",
    "\n",
    "<number>\n",
    "{number}\n",
    "</number>\n",
    "\n",
    "<sequence>\n",
    "{sequence}\n",
    "</sequence>\n",
    "\n",
    "<result>\n",
    "{result}\n",
    "</result>\n",
    "\"\"\".strip()"
   ]
  },
  {
   "cell_type": "markdown",
   "id": "8bbccc2e-e91f-4980-92a9-84d4848a83ae",
   "metadata": {},
   "source": [
    "#### Structured outputs for final result correctness evaluation"
   ]
  },
  {
   "cell_type": "code",
   "execution_count": 51,
   "id": "e2a4c814-100b-481f-9530-06b74a551bd2",
   "metadata": {},
   "outputs": [],
   "source": [
    "from pydantic import Field\n",
    "\n",
    "\n",
    "class ExampleResultEvaluation(BaseModel):\n",
    "    \"\"\"Evaluation of result.\"\"\"\n",
    "\n",
    "    correct: bool = Field(\n",
    "        description=\"True if the assistant's final result contains the correct sequence. False otherwise.\",\n",
    "    )"
   ]
  },
  {
   "cell_type": "code",
   "execution_count": 52,
   "id": "b5846d32-a876-4df6-be7b-9db8959288f3",
   "metadata": {},
   "outputs": [
    {
     "data": {
      "text/plain": [
       "[ExampleResultEvaluation(correct=False),\n",
       " ExampleResultEvaluation(correct=False),\n",
       " ExampleResultEvaluation(correct=True),\n",
       " ExampleResultEvaluation(correct=False),\n",
       " ExampleResultEvaluation(correct=False)]"
      ]
     },
     "execution_count": 52,
     "metadata": {},
     "output_type": "execute_result"
    }
   ],
   "source": [
    "import asyncio\n",
    "\n",
    "eval_async_tasks = []\n",
    "for ex, handler in zip(benchmark, handlers, strict=False):\n",
    "    async_task = llm.structured_output(\n",
    "        prompt=judge_prompt_template.format(\n",
    "            number=ex.number,\n",
    "            sequence=ex.sequence,\n",
    "            result=str(handler.result()),\n",
    "        ),\n",
    "        mdl=ExampleResultEvaluation,\n",
    "    )\n",
    "    eval_async_tasks.append(async_task)\n",
    "\n",
    "result_evals = await asyncio.gather(*eval_async_tasks)\n",
    "result_evals"
   ]
  },
  {
   "cell_type": "markdown",
   "id": "84998e96-8356-4559-a6ad-44f4bb6001cd",
   "metadata": {},
   "source": [
    "## Number Steps Evaluation"
   ]
  },
  {
   "cell_type": "code",
   "execution_count": 53,
   "id": "8e1aaef3-940c-494d-adec-9a8083a69b62",
   "metadata": {},
   "outputs": [
    {
     "data": {
      "text/plain": [
       "[15, -3, 4, -6, 4]"
      ]
     },
     "execution_count": 53,
     "metadata": {},
     "output_type": "execute_result"
    }
   ],
   "source": [
    "num_steps_diff = [\n",
    "    (h.step_counter - ex.min_steps)\n",
    "    for h, ex in zip(handlers, benchmark, strict=False)\n",
    "]\n",
    "num_steps_diff"
   ]
  },
  {
   "cell_type": "markdown",
   "id": "049a5c20-0839-401e-9c66-de9e9757c307",
   "metadata": {},
   "source": [
    "## LLM Agent Trajectory Evaluation"
   ]
  },
  {
   "cell_type": "markdown",
   "id": "576af8a6-bba3-44f7-8663-74018eecc0f4",
   "metadata": {},
   "source": [
    "### LLM Judge Setup"
   ]
  },
  {
   "cell_type": "code",
   "execution_count": 54,
   "id": "ef217cfc-ffd4-45b6-a468-e891a86afa7e",
   "metadata": {},
   "outputs": [],
   "source": [
    "llm_trajectory_judge = OllamaLLM(model=\"qwen2.5:3b\")"
   ]
  },
  {
   "cell_type": "code",
   "execution_count": 55,
   "id": "0d7036e2-96b9-4173-b98b-43648446c8ba",
   "metadata": {},
   "outputs": [],
   "source": [
    "trajectory_judge_prompt_template = \"\"\"\n",
    "You are an evaluation assistant for evaluating another assistant's reasoning\n",
    "trajectory for solving a sequence generation task. The instruction and correct\n",
    "sequence is provided in addition to the trajectory of the assistant. Use the\n",
    "provided rubric to provide an evaluation of the trajectory.\n",
    "\n",
    "INSTRUCTION:\n",
    "{instruction}\n",
    "\n",
    "SEQUENCE:\n",
    "{sequence}\n",
    "\n",
    "TRAJECTORY:\n",
    "{trajectory}\n",
    "\n",
    "RUBRIC:\n",
    "Reasoning (0-5): Does the assistant follow logical steps and make sound\n",
    "decisions?\n",
    "Process (0-5): Does the assistant follow proper tool usage and protocols?\n",
    "\n",
    "Provide a score, with 0 being lowest and 5 the highest, for each dimension and\n",
    "brief justification.\n",
    "\n",
    "WARNINGS: DO NOT DEDUCT FOR THE SAME ERROR MORE THAN ONCE. If an issue affects\n",
    "multiple dimensions, choose the most relevant dimension to dock points.\"\"\".strip()"
   ]
  },
  {
   "cell_type": "code",
   "execution_count": 56,
   "id": "9fab4b3a-ea39-4eb5-98bf-cea7b3b0d95b",
   "metadata": {},
   "outputs": [],
   "source": [
    "from typing import Literal\n",
    "\n",
    "\n",
    "class DimensionScore(BaseModel):\n",
    "    \"\"\"Model for a dimension score.\"\"\"\n",
    "\n",
    "    score: Literal[0, 1, 2, 3, 4, 5] = Field(\n",
    "        description=\"Overall score on the dimension.\",\n",
    "    )\n",
    "    justification: str = Field(\n",
    "        description=\"Justification for the score.\",\n",
    "    )\n",
    "\n",
    "\n",
    "class ExampleTrajectoryEvaluation(BaseModel):\n",
    "    \"\"\"Evaluation of LLM agent trajectory.\"\"\"\n",
    "\n",
    "    reasoning: DimensionScore\n",
    "    process: DimensionScore"
   ]
  },
  {
   "cell_type": "code",
   "execution_count": 57,
   "id": "e4edb582-ac3a-46af-b5da-cb5f0c307bbe",
   "metadata": {},
   "outputs": [
    {
     "data": {
      "text/plain": [
       "[ExampleTrajectoryEvaluation(reasoning=DimensionScore(score=3, justification='The assistant attempts to follow logical steps and provides a clear explanation of the sequence generated by the `next_number` function. However, there are some minor issues that prevent full credit in reasoning: The initial setup could have been clearer, and the prompt for continuing the sequence generation was not as effective.'), process=DimensionScore(score=4, justification='The assistant follows proper tool usage (calling `next_number` with different inputs) and protocols (providing clear explanations of each step). There were no issues reported related to tool usage or protocols that would warrant a deduction in this area.')),\n",
       " ExampleTrajectoryEvaluation(reasoning=DimensionScore(score=4, justification=\"The assistant follows logical steps and makes sound decisions for the most part. They correctly apply the `next_number` tool in sequence without fabricating or simulating results, adhering to the 'STOP and WAIT' rule. However, there is a slight omission of providing the final number 1 in the output sequence which leads to an incomplete answer.\"), process=DimensionScore(score=5, justification=\"The assistant follows proper tool usage and protocols by making multiple `next_number` calls as directed. They do not make simultaneous or additional tool calls, and they correctly wait for each tool's result before proceeding to the next step.\")),\n",
       " ExampleTrajectoryEvaluation(reasoning=DimensionScore(score=2, justification=\"The assistant follows a logical trajectory by generating the next number in the sequence from x=4 until it reaches x=1. However, there are some steps that are redundant and could be streamlined for efficiency. For example, once the tool returns '1', no further calls to `next_number` on 1 are necessary since the final result should just be the sequence starting at 4 and ending with 1. Additionally, the assistant mentions making a call to the next number on x=2 again after already getting the number 1, which is not logically correct as per the given sequence rules. This indicates an error in reasoning.\"), process=DimensionScore(score=3, justification=\"The assistant follows the proper protocol of calling the `next_number` tool each time with the current value x and waits for the result before making the next call. The tool results are correctly reported as provided by the warnings not to fabricate or simulate results. However, there is a redundant step in generating the sequence from 4 back to 2 after already receiving '1' at x=1. This does not adhere strictly to the given rules and could be avoided for efficiency.\")),\n",
       " ExampleTrajectoryEvaluation(reasoning=DimensionScore(score=4, justification='The assistant follows a logical step-by-step process in calling the `next_number` tool with the current number and receives the correct result each time. The reasoning is sound as there are no apparent logic errors in the steps taken.'), process=DimensionScore(score=4, justification='The assistant adheres to the instructions, makes a single tool call per step, and waits for the actual response before deciding on the next call. This ensures proper protocol is followed throughout the process.')),\n",
       " ExampleTrajectoryEvaluation(reasoning=DimensionScore(score=3, justification='The assistant follows a logical step-by-step process and uses the tool correctly according to the instructions.'), process=DimensionScore(score=4, justification='The assistant adheres strictly to the rules provided in the warnings section. No multiple calls are made in one response, and each call is made after receiving the result from the previous call as expected.'))]"
      ]
     },
     "execution_count": 57,
     "metadata": {},
     "output_type": "execute_result"
    }
   ],
   "source": [
    "eval_async_tasks = []\n",
    "for ex, handler in zip(benchmark, handlers, strict=False):\n",
    "    async_task = llm_trajectory_judge.structured_output(\n",
    "        prompt=trajectory_judge_prompt_template.format(\n",
    "            instruction=instruction_template.format(x=ex.number),\n",
    "            sequence=ex.sequence,\n",
    "            trajectory=handler.rollout,\n",
    "        ),\n",
    "        mdl=ExampleTrajectoryEvaluation,\n",
    "    )\n",
    "    eval_async_tasks.append(async_task)\n",
    "\n",
    "trajectory_evals = await asyncio.gather(*eval_async_tasks)\n",
    "trajectory_evals"
   ]
  },
  {
   "cell_type": "markdown",
   "id": "b7795ff7-a3c4-44cd-8767-52340e1bb9fd",
   "metadata": {},
   "source": [
    "### Create Eval summary report"
   ]
  },
  {
   "cell_type": "code",
   "execution_count": 47,
   "id": "cd61843d-c142-426a-b354-b81b5ba08b64",
   "metadata": {},
   "outputs": [],
   "source": [
    "!uv pip install pandas tabulate -q"
   ]
  },
  {
   "cell_type": "code",
   "execution_count": 58,
   "id": "4e4b6188-724b-49a2-b13b-f3cde43e5814",
   "metadata": {},
   "outputs": [],
   "source": [
    "import pandas as pd"
   ]
  },
  {
   "cell_type": "code",
   "execution_count": 59,
   "id": "2fb6f547-ea9d-4330-ae70-4e28e90eed9a",
   "metadata": {},
   "outputs": [
    {
     "data": {
      "text/html": [
       "<div>\n",
       "<style scoped>\n",
       "    .dataframe tbody tr th:only-of-type {\n",
       "        vertical-align: middle;\n",
       "    }\n",
       "\n",
       "    .dataframe tbody tr th {\n",
       "        vertical-align: top;\n",
       "    }\n",
       "\n",
       "    .dataframe thead th {\n",
       "        text-align: right;\n",
       "    }\n",
       "</style>\n",
       "<table border=\"1\" class=\"dataframe\">\n",
       "  <thead>\n",
       "    <tr style=\"text-align: right;\">\n",
       "      <th></th>\n",
       "      <th>result_correctness</th>\n",
       "      <th>number_steps_diff</th>\n",
       "      <th>trajectory_reasoning</th>\n",
       "      <th>trajectory_process</th>\n",
       "      <th>trajectory_overall</th>\n",
       "    </tr>\n",
       "  </thead>\n",
       "  <tbody>\n",
       "    <tr>\n",
       "      <th>0</th>\n",
       "      <td>0.0</td>\n",
       "      <td>15.0</td>\n",
       "      <td>3.0</td>\n",
       "      <td>4.0</td>\n",
       "      <td>3.5</td>\n",
       "    </tr>\n",
       "    <tr>\n",
       "      <th>1</th>\n",
       "      <td>0.0</td>\n",
       "      <td>-3.0</td>\n",
       "      <td>4.0</td>\n",
       "      <td>5.0</td>\n",
       "      <td>4.5</td>\n",
       "    </tr>\n",
       "    <tr>\n",
       "      <th>2</th>\n",
       "      <td>1.0</td>\n",
       "      <td>4.0</td>\n",
       "      <td>2.0</td>\n",
       "      <td>3.0</td>\n",
       "      <td>2.5</td>\n",
       "    </tr>\n",
       "    <tr>\n",
       "      <th>3</th>\n",
       "      <td>0.0</td>\n",
       "      <td>-6.0</td>\n",
       "      <td>4.0</td>\n",
       "      <td>4.0</td>\n",
       "      <td>4.0</td>\n",
       "    </tr>\n",
       "    <tr>\n",
       "      <th>4</th>\n",
       "      <td>0.0</td>\n",
       "      <td>4.0</td>\n",
       "      <td>3.0</td>\n",
       "      <td>4.0</td>\n",
       "      <td>3.5</td>\n",
       "    </tr>\n",
       "    <tr>\n",
       "      <th>Average</th>\n",
       "      <td>0.2</td>\n",
       "      <td>2.8</td>\n",
       "      <td>3.2</td>\n",
       "      <td>4.0</td>\n",
       "      <td>3.6</td>\n",
       "    </tr>\n",
       "  </tbody>\n",
       "</table>\n",
       "</div>"
      ],
      "text/plain": [
       "         result_correctness  number_steps_diff  trajectory_reasoning  \\\n",
       "0                       0.0               15.0                   3.0   \n",
       "1                       0.0               -3.0                   4.0   \n",
       "2                       1.0                4.0                   2.0   \n",
       "3                       0.0               -6.0                   4.0   \n",
       "4                       0.0                4.0                   3.0   \n",
       "Average                 0.2                2.8                   3.2   \n",
       "\n",
       "         trajectory_process  trajectory_overall  \n",
       "0                       4.0                 3.5  \n",
       "1                       5.0                 4.5  \n",
       "2                       3.0                 2.5  \n",
       "3                       4.0                 4.0  \n",
       "4                       4.0                 3.5  \n",
       "Average                 4.0                 3.6  "
      ]
     },
     "execution_count": 59,
     "metadata": {},
     "output_type": "execute_result"
    }
   ],
   "source": [
    "report = pd.DataFrame(\n",
    "    data={\n",
    "        \"result_correctness\": [int(el.correct) for el in result_evals],\n",
    "        \"number_steps_diff\": num_steps_diff,\n",
    "        \"trajectory_reasoning\": [e.reasoning.score for e in trajectory_evals],\n",
    "        \"trajectory_process\": [e.process.score for e in trajectory_evals],\n",
    "        \"trajectory_overall\": [\n",
    "            (e.reasoning.score + e.process.score) / 2 for e in trajectory_evals\n",
    "        ],\n",
    "    },\n",
    ")\n",
    "report.loc[\"Average\"] = report.mean().round(2)\n",
    "report"
   ]
  },
  {
   "cell_type": "markdown",
   "id": "11a91233-6361-4268-92de-f4e7a5b1780d",
   "metadata": {},
   "source": [
    "## Previous Benchmark Runs"
   ]
  },
  {
   "cell_type": "markdown",
   "id": "aea5a496-23a7-4ef3-8bbf-01cdfc60338a",
   "metadata": {},
   "source": [
    "### Qwen2.5-72b\n",
    "\n",
    "_Ran on 7xA40 with runpod_\n",
    "\n",
    "|         |   result_correctness |   number_steps_diff |   trajectory_reasoning |   trajectory_process |   trajectory_overall |\n",
    "|:--------|---------------------:|--------------------:|-----------------------:|---------------------:|---------------------:|\n",
    "| 0       |                    1 |                15   |                    4   |                  4   |                  4   |\n",
    "| 1       |                    1 |                10   |                    4   |                  5   |                  4.5 |\n",
    "| 2       |                    1 |                 1   |                    5   |                  5   |                  5   |\n",
    "| 3       |                    1 |                 4   |                    4   |                  5   |                  4.5 |\n",
    "| 4       |                    1 |                 1   |                    4   |                  5   |                  4.5 |\n",
    "| Average |                    1 |                 6.2 |                    4.2 |                  4.8 |                  4.5 |"
   ]
  },
  {
   "cell_type": "markdown",
   "id": "01b455e0-1ba1-4922-80a5-98afec8f9a82",
   "metadata": {},
   "source": [
    "### Qwen2.5-3b\n",
    "\n",
    "|         |   result_correctness |   number_steps_diff |   trajectory_reasoning |   trajectory_process |   trajectory_overall |\n",
    "|:--------|---------------------:|--------------------:|-----------------------:|---------------------:|---------------------:|\n",
    "| 0       |                  0   |                 -10 |                    3   |                  2   |                  2.5 |\n",
    "| 1       |                  0   |                  -6 |                    3   |                  4   |                  3.5 |\n",
    "| 2       |                  1   |                  -1 |                    2   |                  0   |                  1   |\n",
    "| 3       |                  1   |                   1 |                    4   |                  3   |                  3.5 |\n",
    "| 4       |                  0   |                   1 |                    2   |                  3   |                  2.5 |\n",
    "| Average |                  0.4 |                  -3 |                    2.8 |                  2.4 |                  2.6 |"
   ]
  },
  {
   "cell_type": "code",
   "execution_count": null,
   "id": "33a5c079-d208-4d11-af3a-c04bf7dc79f3",
   "metadata": {},
   "outputs": [],
   "source": []
  }
 ],
 "metadata": {
  "kernelspec": {
   "display_name": "Python 3 (ipykernel)",
   "language": "python",
   "name": "python3"
  },
  "language_info": {
   "codemirror_mode": {
    "name": "ipython",
    "version": 3
   },
   "file_extension": ".py",
   "mimetype": "text/x-python",
   "name": "python",
   "nbconvert_exporter": "python",
   "pygments_lexer": "ipython3",
   "version": "3.13.5"
  }
 },
 "nbformat": 4,
 "nbformat_minor": 5
}
