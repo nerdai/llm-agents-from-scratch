{
 "cells": [
  {
   "cell_type": "markdown",
   "id": "9be1b6cd-6b32-47b3-ab9d-37ea9f2d9e23",
   "metadata": {},
   "source": [
    "# Using `OllamaLLM`"
   ]
  },
  {
   "cell_type": "markdown",
   "id": "fa644c83-a2df-41c3-9722-c699d89dbb50",
   "metadata": {},
   "source": [
    "In this notebook, we show how to use the `OllamaLLM` class.\n",
    "\n",
    "__Requirements:__\n",
    "\n",
    "1. Have `ollama` installed (see instructions in the official [README](https://github.com/ollama/ollama))\n",
    "2. Ollama running in the background, via: `ollama serve`"
   ]
  },
  {
   "cell_type": "code",
   "execution_count": null,
   "id": "811cb19f-7dd3-4aaa-b6af-638bd443cff2",
   "metadata": {},
   "outputs": [],
   "source": [
    "# install dependencies\n",
    "!pip install llm-agents-from-scratch -q"
   ]
  },
  {
   "cell_type": "markdown",
   "id": "af6c7d8e-d523-419a-9aad-32ffc07554f4",
   "metadata": {},
   "source": [
    "## Instantiating an `OllamaLLM` object\n",
    "\n",
    "To create an `OllamaLLM` object, simply pass in the name of the model you'd like to use. For the list of all models, see the official [docs](https://ollama.com/search)."
   ]
  },
  {
   "cell_type": "code",
   "execution_count": 1,
   "id": "1993b5be-ead6-4ffd-96ec-fbf254064eea",
   "metadata": {},
   "outputs": [],
   "source": [
    "from llm_agents_from_scratch.llms import OllamaLLM"
   ]
  },
  {
   "cell_type": "code",
   "execution_count": 2,
   "id": "6e300e09-e273-439e-af79-3b74d0423f3c",
   "metadata": {},
   "outputs": [],
   "source": [
    "llm = OllamaLLM(\n",
    "    model=\"llama3.2\",\n",
    ")"
   ]
  },
  {
   "cell_type": "markdown",
   "id": "c411926b-c4c9-4562-8b7b-8a45961d29e5",
   "metadata": {},
   "source": [
    "## Complete\n",
    "\n",
    "We use the `.complete()` method to perform text completion with our `OllamaLLM` object. "
   ]
  },
  {
   "cell_type": "code",
   "execution_count": 8,
   "id": "1826738b-06f6-406f-a292-f19b05798299",
   "metadata": {},
   "outputs": [],
   "source": [
    "response = await llm.complete(prompt=\"Tell me a joke.\")"
   ]
  },
  {
   "cell_type": "code",
   "execution_count": 12,
   "id": "a9a7f221-6ac2-4d86-b805-0a8ba1034647",
   "metadata": {},
   "outputs": [
    {
     "data": {
      "text/plain": [
       "llm_agents_from_scratch.data_structures.llm.CompleteResult"
      ]
     },
     "execution_count": 12,
     "metadata": {},
     "output_type": "execute_result"
    }
   ],
   "source": [
    "type(response)"
   ]
  },
  {
   "cell_type": "code",
   "execution_count": 10,
   "id": "2764770f-4505-4fe6-8e4d-d374e68e8875",
   "metadata": {},
   "outputs": [
    {
     "name": "stdout",
     "output_type": "stream",
     "text": [
      "Why don't eggs tell jokes?\n",
      "\n",
      "Because they'd crack each other up!\n"
     ]
    }
   ],
   "source": [
    "print(response.response)"
   ]
  },
  {
   "cell_type": "markdown",
   "id": "e296fe5c-7eb3-47c6-a652-fcc6bd686773",
   "metadata": {},
   "source": [
    "## Chat\n",
    "\n",
    "We use the `.chat()` method to chat with `OllamaLLM` object, using the chat API."
   ]
  },
  {
   "cell_type": "code",
   "execution_count": 13,
   "id": "2f20c99e-ff7b-4718-aae2-a6aa7d0ab9b4",
   "metadata": {},
   "outputs": [],
   "source": [
    "response = await llm.chat(\"Tell me a joke.\")"
   ]
  },
  {
   "cell_type": "code",
   "execution_count": 14,
   "id": "787e522c-5697-439b-816c-8bf8fa89ee27",
   "metadata": {},
   "outputs": [
    {
     "data": {
      "text/plain": [
       "llm_agents_from_scratch.data_structures.llm.ChatMessage"
      ]
     },
     "execution_count": 14,
     "metadata": {},
     "output_type": "execute_result"
    }
   ],
   "source": [
    "type(response)"
   ]
  },
  {
   "cell_type": "code",
   "execution_count": 15,
   "id": "48a3193e-321c-4b1d-b184-7a007e3dd32e",
   "metadata": {},
   "outputs": [
    {
     "name": "stdout",
     "output_type": "stream",
     "text": [
      "Why don't eggs tell jokes?\n",
      "\n",
      "Because they'd crack each other up!\n"
     ]
    }
   ],
   "source": [
    "print(response.content)"
   ]
  },
  {
   "cell_type": "markdown",
   "id": "2af19a4d-2a5b-424b-b0fd-d7664535914f",
   "metadata": {},
   "source": [
    "## Structured Output\n",
    "\n",
    "We use the `.structured_output()` method to produce structured responses, represented as `~pydantic.BaseModel`, with our `OllamaLLM` object. Here, we'll ask it to produce a structured data class `Joke` that contains a `topic` and a `content` attribute."
   ]
  },
  {
   "cell_type": "code",
   "execution_count": 16,
   "id": "b88c8149-a3a2-43e4-9bb7-0ca0e65fcff9",
   "metadata": {},
   "outputs": [],
   "source": [
    "from pydantic import BaseModel, Field\n",
    "\n",
    "\n",
    "class Joke(BaseModel):\n",
    "    \"\"\"A structured representation of a joke.\"\"\"\n",
    "\n",
    "    topic: str = Field(description=\"Topic of the joke.\")\n",
    "    content: str = Field(description=\"Joke content.\")"
   ]
  },
  {
   "cell_type": "code",
   "execution_count": 17,
   "id": "051ad64d-d257-49ff-abb9-e83ac6102db9",
   "metadata": {},
   "outputs": [],
   "source": [
    "joke = await llm.structured_output(\n",
    "    prompt=\"Tell me a new joke about any topic you like.\",\n",
    "    mdl=Joke,\n",
    ")"
   ]
  },
  {
   "cell_type": "code",
   "execution_count": 18,
   "id": "ceb6db9e-5738-4d7f-893b-1d38da76dea5",
   "metadata": {},
   "outputs": [
    {
     "data": {
      "text/plain": [
       "Joke(topic='space', content='Why did the astronaut break up with his girlfriend before going to Mars? Because he needed space.')"
      ]
     },
     "execution_count": 18,
     "metadata": {},
     "output_type": "execute_result"
    }
   ],
   "source": [
    "joke"
   ]
  }
 ],
 "metadata": {
  "kernelspec": {
   "display_name": "Python 3 (ipykernel)",
   "language": "python",
   "name": "python3"
  },
  "language_info": {
   "codemirror_mode": {
    "name": "ipython",
    "version": 3
   },
   "file_extension": ".py",
   "mimetype": "text/x-python",
   "name": "python",
   "nbconvert_exporter": "python",
   "pygments_lexer": "ipython3",
   "version": "3.13.5"
  }
 },
 "nbformat": 4,
 "nbformat_minor": 5
}
